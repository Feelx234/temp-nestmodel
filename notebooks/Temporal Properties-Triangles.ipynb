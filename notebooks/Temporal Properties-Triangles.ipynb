{
 "cells": [
  {
   "cell_type": "code",
   "execution_count": 39,
   "id": "e72ad0bb",
   "metadata": {},
   "outputs": [],
   "source": [
    "import numpy as np\n",
    "from tnestmodel.datasets import datasets\n",
    "from tnestmodel.temp_wl import compute_d_rounds\n",
    "from tnestmodel.temp_fast_graph import SparseTempFastGraph\n",
    "from nestmodel.graph_properties import number_of_flips_possible\n",
    "import matplotlib.pyplot as plt"
   ]
  },
  {
   "cell_type": "code",
   "execution_count": 40,
   "id": "fb78dfcc",
   "metadata": {},
   "outputs": [],
   "source": [
    "use_range_times = False"
   ]
  },
  {
   "cell_type": "code",
   "execution_count": 41,
   "id": "1f4138c1",
   "metadata": {},
   "outputs": [],
   "source": [
    "def switch_in_out(E):\n",
    "    out = np.empty_like(E)\n",
    "    out[:,0] = E[:,1]\n",
    "    out[:,1] = E[:,0]\n",
    "    out[:,2] = E[:,2]\n",
    "    return out"
   ]
  },
  {
   "cell_type": "code",
   "execution_count": 42,
   "id": "2d06805c",
   "metadata": {},
   "outputs": [],
   "source": [
    "#%load_ext snakeviz"
   ]
  },
  {
   "cell_type": "code",
   "execution_count": 43,
   "id": "57e96c88",
   "metadata": {},
   "outputs": [
    {
     "name": "stdout",
     "output_type": "stream",
     "text": [
      "\n",
      "aves-weaver-social\n",
      "max_d 5\n",
      "\n",
      "ht09\n",
      "max_d 5\n",
      "\n",
      "workplace_2013\n",
      "max_d 5\n",
      "\n",
      "mammalia-primate-association\n",
      "max_d 3\n",
      "\n",
      "mammalia-raccoon-proximity\n",
      "max_d 4\n",
      "\n",
      "talk_eo\n",
      "max_d 4\n",
      "\n",
      "dnc\n",
      "max_d 5\n",
      "\n",
      "fb-forum\n",
      "max_d 5\n",
      "\n",
      "email-eu2\n",
      "max_d 5\n",
      "\n",
      "email-eu3\n",
      "max_d 4\n"
     ]
    }
   ],
   "source": [
    "#%%snakeviz --new-tab\n",
    "Gs = []\n",
    "time_deltas = []\n",
    "hs = []\n",
    "for dataset in datasets:\n",
    "    print()\n",
    "    print(dataset.name)\n",
    "    E = dataset.read_edges()\n",
    "    \n",
    "    if np.any(E[:,0]==E[:,1]):\n",
    "        print(\"self\")\n",
    "    if dataset.is_directed:\n",
    "        E = switch_in_out(E)\n",
    "\n",
    "    nodes = np.unique(E[:, :2].ravel())\n",
    "    total_time_diff = np.max(E[:,2])-np.min(E[:,2])\n",
    "    time_deltas.append(total_time_diff)\n",
    "    h2 = int(round(total_time_diff*1.2))\n",
    "\n",
    "    G = SparseTempFastGraph.from_temporal_edges(E, dataset.is_directed)\n",
    "    if use_range_times:\n",
    "        G.times = np.arange(len(G.times))\n",
    "        h2 = int(round(len(G.times*1.2)))\n",
    "    G.assign_colors_to_slices(h=h2)\n",
    "        \n",
    "    hs.append(h2)\n",
    "    Gs.append(G)\n",
    "    #break\n"
   ]
  },
  {
   "cell_type": "code",
   "execution_count": 44,
   "id": "45505c88",
   "metadata": {},
   "outputs": [],
   "source": [
    "#for G in Gs:\n",
    "#    for d_iter in range(len(G.slices[0].base_partitions)):\n",
    "#        G.s.reset_colors(d_iter, G.h, mode=\"global\")\n",
    "#        print(d_iter)\n",
    "#        for t, G_t in zip(G.times,G.slices):\n",
    "#            G.s.advance_time(t)\n",
    "#            #print(G.s.current_colors[G_t.global_nodes], G_t.base_partitions[d_iter])\n",
    "#            assert_array_equal(G.s.current_colors[G_t.global_nodes], G_t.base_partitions[d_iter])\n"
   ]
  },
  {
   "cell_type": "code",
   "execution_count": 45,
   "id": "e6e83490",
   "metadata": {},
   "outputs": [],
   "source": [
    "from tnestmodel.temp_properties import NumberOfTrianglesCalculator, EdgePersistenceCalculator"
   ]
  },
  {
   "cell_type": "code",
   "execution_count": null,
   "id": "14717b74",
   "metadata": {},
   "outputs": [],
   "source": []
  },
  {
   "cell_type": "code",
   "execution_count": null,
   "id": "f769f137",
   "metadata": {},
   "outputs": [],
   "source": []
  },
  {
   "cell_type": "code",
   "execution_count": 46,
   "id": "d7e73770",
   "metadata": {},
   "outputs": [
    {
     "data": {
      "text/plain": [
       "(array([0, 1, 2, 3, 4]), array([0, 3, 0, 0, 0]))"
      ]
     },
     "execution_count": 46,
     "metadata": {},
     "output_type": "execute_result"
    }
   ],
   "source": [
    "G = SparseTempFastGraph.from_temporal_edges(np.array([(0,1,0), (1,2,1), (1,3,1), (2,0,2), (3,0,3), (2,0,4)],dtype=int), is_directed=True)\n",
    "calculator = NumberOfTrianglesCalculator(G)\n",
    "calculator.prepare()\n",
    "# print(calculator.future_nodes_count, calculator.future_nodes)\n",
    "G.compute_for_each_slice(calculator.calc_for_slice, min_size=1, call_with_time=True, dtype=int)"
   ]
  },
  {
   "cell_type": "code",
   "execution_count": 47,
   "id": "25bfdfef",
   "metadata": {},
   "outputs": [
    {
     "data": {
      "text/plain": [
       "(array([0, 1, 2, 3, 4, 5]), array([0, 0, 6, 0, 0, 0]))"
      ]
     },
     "execution_count": 47,
     "metadata": {},
     "output_type": "execute_result"
    }
   ],
   "source": [
    "G = SparseTempFastGraph.from_temporal_edges(np.array([(0,1,0), (0,1,1), (1,2,2), (1,3,2), (2,0,3), (3,0,4), (2,0,5)],dtype=int), is_directed=True)\n",
    "calculator = NumberOfTrianglesCalculator(G)\n",
    "calculator.prepare()\n",
    "# print(calculator.future_nodes_count, calculator.future_nodes)\n",
    "G.compute_for_each_slice(calculator.calc_for_slice, min_size=1, call_with_time=True, dtype=int)"
   ]
  },
  {
   "cell_type": "code",
   "execution_count": 48,
   "id": "267a88eb",
   "metadata": {},
   "outputs": [
    {
     "data": {
      "text/plain": [
       "(array([0]), array([3]))"
      ]
     },
     "execution_count": 48,
     "metadata": {},
     "output_type": "execute_result"
    }
   ],
   "source": [
    "G = SparseTempFastGraph.from_temporal_edges(np.array([(0,1,0), (1,2,0), (2,0,0)],dtype=int), is_directed=True)\n",
    "calculator = NumberOfTrianglesCalculator(G, strict=False)\n",
    "calculator.prepare()\n",
    "# print(calculator.future_nodes_count, calculator.future_nodes)\n",
    "G.compute_for_each_slice(calculator.calc_for_slice, min_size=1, call_with_time=True, dtype=int)"
   ]
  },
  {
   "cell_type": "code",
   "execution_count": 49,
   "id": "5ae35de6",
   "metadata": {},
   "outputs": [],
   "source": [
    "ts = []\n",
    "for h, G in zip(hs, Gs):\n",
    "    t = G.times\n",
    "    t = np.array(t, dtype=np.float64)\n",
    "    t = t-t.min()\n",
    "    t /= t.max()\n",
    "    ts.append(t)"
   ]
  },
  {
   "cell_type": "code",
   "execution_count": 50,
   "id": "0ff5fd79",
   "metadata": {
    "scrolled": true
   },
   "outputs": [],
   "source": [
    "arrs = []\n",
    "for h, G in zip(hs, Gs):\n",
    "    calculator = NumberOfTrianglesCalculator(G, strict=True)\n",
    "    calculator.prepare()\n",
    "    _, arr = G.compute_for_each_slice(calculator.calc_for_slice, min_size=1, call_with_time=True, dtype=int)\n",
    "    arrs.append(arr)"
   ]
  },
  {
   "cell_type": "code",
   "execution_count": 51,
   "id": "82e2525f",
   "metadata": {},
   "outputs": [
    {
     "name": "stdout",
     "output_type": "stream",
     "text": [
      "0.0\n",
      "18540.51996215101\n",
      "11556.261380665277\n",
      "112.68775679237598\n",
      "471.7630397505978\n",
      "5561.363961030679\n",
      "716.9380535381002\n",
      "1322.0\n",
      "2807.110314831705\n",
      "725.0545856087615\n"
     ]
    }
   ],
   "source": [
    "ts = []\n",
    "pers = []\n",
    "for h, G in zip(hs, Gs):\n",
    "    calculator = EdgePersistenceCalculator(G)\n",
    "    calculator.prepare()\n",
    "    _, arr = G.compute_for_each_slice(calculator.calc_for_slice, min_size=1, call_with_time=True)\n",
    "    print(arr.sum())\n",
    "    pers.append(arr.sum())"
   ]
  },
  {
   "cell_type": "code",
   "execution_count": 52,
   "id": "86f7c0a1",
   "metadata": {},
   "outputs": [],
   "source": [
    "from tnestmodel.temp_properties import _number_of_edges"
   ]
  },
  {
   "cell_type": "code",
   "execution_count": 53,
   "id": "fcfeb9f0",
   "metadata": {},
   "outputs": [],
   "source": [
    "\n",
    "\n",
    "list_num_edges = []\n",
    "for G in Gs:\n",
    "    t, arr = G.compute_for_each_slice(_number_of_edges, min_size=1, call_with_time=False)\n",
    "    list_num_edges.append(arr.sum())"
   ]
  },
  {
   "cell_type": "code",
   "execution_count": null,
   "id": "a9da3d69",
   "metadata": {},
   "outputs": [],
   "source": []
  },
  {
   "cell_type": "code",
   "execution_count": 54,
   "id": "7960e514",
   "metadata": {},
   "outputs": [
    {
     "name": "stdout",
     "output_type": "stream",
     "text": [
      "aves-weaver-social \t\tnum_triangles_per_edge 0.0\n",
      "ht09 \t\tnum_triangles_per_edge 2084.1175425112883\n",
      "workplace_2013 \t\tnum_triangles_per_edge 1274.7187340999287\n",
      "mammalia-primate-association \t\tnum_triangles_per_edge 103.15\n",
      "mammalia-raccoon-proximity \t\tnum_triangles_per_edge 313.91837756634953\n",
      "talk_eo \t\tnum_triangles_per_edge 505.8582817609383\n",
      "dnc \t\tnum_triangles_per_edge 1082.689601916349\n",
      "fb-forum \t\tnum_triangles_per_edge 0.6467846327415236\n",
      "email-eu2 \t\tnum_triangles_per_edge 16695.920604216473\n",
      "email-eu3 \t\tnum_triangles_per_edge 302.69496307360384\n"
     ]
    }
   ],
   "source": [
    "rows = []\n",
    "for arr, num_edges, dataset in zip(arrs, list_num_edges, datasets):\n",
    "    \n",
    "    print(dataset.name, \"\\t\\tnum_triangles_per_edge\", np.sum(arr)/num_edges)\n",
    "    rows.append((dataset.name, arr.sum(), num_edges, np.sum(arr)/num_edges))"
   ]
  },
  {
   "cell_type": "code",
   "execution_count": 55,
   "id": "23f22ea0",
   "metadata": {},
   "outputs": [],
   "source": [
    "from tnestmodel.temp_properties import get_edge_persistence, get_total_number_of_edges, numba_get_all_triangles, causal_triangles"
   ]
  },
  {
   "cell_type": "code",
   "execution_count": 56,
   "id": "d692166b",
   "metadata": {},
   "outputs": [],
   "source": [
    "import pandas as pd"
   ]
  },
  {
   "cell_type": "code",
   "execution_count": 57,
   "id": "611de3f5",
   "metadata": {},
   "outputs": [
    {
     "data": {
      "text/html": [
       "<div>\n",
       "<style scoped>\n",
       "    .dataframe tbody tr th:only-of-type {\n",
       "        vertical-align: middle;\n",
       "    }\n",
       "\n",
       "    .dataframe tbody tr th {\n",
       "        vertical-align: top;\n",
       "    }\n",
       "\n",
       "    .dataframe thead th {\n",
       "        text-align: right;\n",
       "    }\n",
       "</style>\n",
       "<table border=\"1\" class=\"dataframe\">\n",
       "  <thead>\n",
       "    <tr style=\"text-align: right;\">\n",
       "      <th></th>\n",
       "      <th>name</th>\n",
       "      <th>forward_triangles</th>\n",
       "      <th>edges</th>\n",
       "      <th>triangles per edge</th>\n",
       "    </tr>\n",
       "  </thead>\n",
       "  <tbody>\n",
       "    <tr>\n",
       "      <th>0</th>\n",
       "      <td>aves-weaver-social</td>\n",
       "      <td>0</td>\n",
       "      <td>1333.0</td>\n",
       "      <td>0.000000</td>\n",
       "    </tr>\n",
       "    <tr>\n",
       "      <th>1</th>\n",
       "      <td>ht09</td>\n",
       "      <td>43387159</td>\n",
       "      <td>20818.0</td>\n",
       "      <td>2084.117543</td>\n",
       "    </tr>\n",
       "    <tr>\n",
       "      <th>2</th>\n",
       "      <td>workplace_2013</td>\n",
       "      <td>12526661</td>\n",
       "      <td>9827.0</td>\n",
       "      <td>1274.718734</td>\n",
       "    </tr>\n",
       "    <tr>\n",
       "      <th>3</th>\n",
       "      <td>mammalia-primate-association</td>\n",
       "      <td>138221</td>\n",
       "      <td>1340.0</td>\n",
       "      <td>103.150000</td>\n",
       "    </tr>\n",
       "    <tr>\n",
       "      <th>4</th>\n",
       "      <td>mammalia-raccoon-proximity</td>\n",
       "      <td>626895</td>\n",
       "      <td>1997.0</td>\n",
       "      <td>313.918378</td>\n",
       "    </tr>\n",
       "    <tr>\n",
       "      <th>5</th>\n",
       "      <td>talk_eo</td>\n",
       "      <td>18718274</td>\n",
       "      <td>37003.0</td>\n",
       "      <td>505.858282</td>\n",
       "    </tr>\n",
       "    <tr>\n",
       "      <th>6</th>\n",
       "      <td>dnc</td>\n",
       "      <td>34350493</td>\n",
       "      <td>31727.0</td>\n",
       "      <td>1082.689602</td>\n",
       "    </tr>\n",
       "    <tr>\n",
       "      <th>7</th>\n",
       "      <td>fb-forum</td>\n",
       "      <td>21785</td>\n",
       "      <td>33682.0</td>\n",
       "      <td>0.646785</td>\n",
       "    </tr>\n",
       "    <tr>\n",
       "      <th>8</th>\n",
       "      <td>email-eu2</td>\n",
       "      <td>768179307</td>\n",
       "      <td>46010.0</td>\n",
       "      <td>16695.920604</td>\n",
       "    </tr>\n",
       "    <tr>\n",
       "      <th>9</th>\n",
       "      <td>email-eu3</td>\n",
       "      <td>3647777</td>\n",
       "      <td>12051.0</td>\n",
       "      <td>302.694963</td>\n",
       "    </tr>\n",
       "  </tbody>\n",
       "</table>\n",
       "</div>"
      ],
      "text/plain": [
       "                           name  forward_triangles    edges  \\\n",
       "0            aves-weaver-social                  0   1333.0   \n",
       "1                          ht09           43387159  20818.0   \n",
       "2                workplace_2013           12526661   9827.0   \n",
       "3  mammalia-primate-association             138221   1340.0   \n",
       "4    mammalia-raccoon-proximity             626895   1997.0   \n",
       "5                       talk_eo           18718274  37003.0   \n",
       "6                           dnc           34350493  31727.0   \n",
       "7                      fb-forum              21785  33682.0   \n",
       "8                     email-eu2          768179307  46010.0   \n",
       "9                     email-eu3            3647777  12051.0   \n",
       "\n",
       "   triangles per edge  \n",
       "0            0.000000  \n",
       "1         2084.117543  \n",
       "2         1274.718734  \n",
       "3          103.150000  \n",
       "4          313.918378  \n",
       "5          505.858282  \n",
       "6         1082.689602  \n",
       "7            0.646785  \n",
       "8        16695.920604  \n",
       "9          302.694963  "
      ]
     },
     "execution_count": 57,
     "metadata": {},
     "output_type": "execute_result"
    }
   ],
   "source": [
    "pd.DataFrame.from_records(rows, columns=[\"name\", \"forward_triangles\", \"edges\", \"triangles per edge\"])"
   ]
  },
  {
   "cell_type": "code",
   "execution_count": 58,
   "id": "ec4f9888",
   "metadata": {},
   "outputs": [],
   "source": [
    "nodes_per = [G.num_nodes for G in Gs]\n",
    "times_per = [len(G.slices) for G in Gs]\n",
    "directed_per = [G.is_directed for G in Gs]"
   ]
  },
  {
   "cell_type": "code",
   "execution_count": 59,
   "id": "3aef81f1",
   "metadata": {},
   "outputs": [
    {
     "name": "stdout",
     "output_type": "stream",
     "text": [
      "1333 1333 1333\n",
      "20818 20818 20818\n",
      "9827 9827 9827\n",
      "1340 1340 1340\n",
      "1997 1997 1997\n",
      "37003 37003 37003\n",
      "31727 31727 31727\n",
      "33682 33682 33682\n",
      "46010 46010 46010\n",
      "12051 12051 12051\n"
     ]
    }
   ],
   "source": [
    "for dataset, G in zip(datasets, Gs):\n",
    "    E = G.to_temporal_edges()\n",
    "    E2 = set(map(tuple, E))\n",
    "    print(E.shape[0], len(E2), get_total_number_of_edges(G))"
   ]
  },
  {
   "cell_type": "code",
   "execution_count": null,
   "id": "62371ac5",
   "metadata": {},
   "outputs": [],
   "source": []
  },
  {
   "cell_type": "code",
   "execution_count": 60,
   "id": "5c4cb122",
   "metadata": {},
   "outputs": [
    {
     "name": "stdout",
     "output_type": "stream",
     "text": [
      "CSVDataset(aves-weaver-social, False) 12366\n",
      "CSVDataset(ht09, False) 559040718\n",
      "CSVDataset(workplace_2013, False) 140416356\n",
      "CSVDataset(mammalia-primate-association, False) 2229750\n",
      "CSVDataset(mammalia-raccoon-proximity, False) 8621310\n",
      "CSVDataset(talk_eo, True) 110333082\n",
      "CSVDataset(dnc, True) 203675919\n",
      "CSVDataset(fb-forum, True) 133227\n",
      "CSVDataset(email-eu2, True) 4574681847\n",
      "CSVDataset(email-eu3, True) 21498570\n"
     ]
    }
   ],
   "source": [
    "counts = []\n",
    "for dataset, G in zip(datasets, Gs):\n",
    "    if dataset.name==\"hospital_ward\":\n",
    "        G_out = G\n",
    "    \n",
    "    c = numba_get_all_triangles(G)\n",
    "    \n",
    "    \n",
    "    print(dataset, c)\n",
    "    counts.append(c)\n"
   ]
  },
  {
   "cell_type": "code",
   "execution_count": 61,
   "id": "2ec5e619",
   "metadata": {},
   "outputs": [
    {
     "data": {
      "text/plain": [
       "93173453.0"
      ]
     },
     "execution_count": 61,
     "metadata": {},
     "output_type": "execute_result"
    }
   ],
   "source": [
    "559040718/6"
   ]
  },
  {
   "cell_type": "code",
   "execution_count": 62,
   "id": "cf8d1c92",
   "metadata": {},
   "outputs": [],
   "source": [
    "df = pd.DataFrame.from_records(rows, columns=[\"name\", \"forward_triangles\", \"edges\", \"triangles per edge\"])\n",
    "df[\"forward_triangles\"] = np.array(df[\"forward_triangles\"], dtype=np.float64)\n",
    "df[\"dir\"] = directed_per\n",
    "df[\"pers\"] = pers\n",
    "counts = np.array(counts, dtype=np.float64)\n",
    "inds = df[\"dir\"]\n",
    "counts[inds]/=3\n",
    "counts[~inds]/=6\n",
    "df[\"agg_triangles\"]=counts\n",
    "df[\"ratio\"] = df[\"forward_triangles\"]/df[\"agg_triangles\"]\n",
    "\n",
    "\n",
    "\n",
    "\n",
    "# divide by 3 in the directed case?\n",
    "df[\"nodes\"] = nodes_per\n",
    "df[\"times\"] = times_per"
   ]
  },
  {
   "cell_type": "code",
   "execution_count": 63,
   "id": "fb06713a",
   "metadata": {},
   "outputs": [
    {
     "data": {
      "text/html": [
       "<div>\n",
       "<style scoped>\n",
       "    .dataframe tbody tr th:only-of-type {\n",
       "        vertical-align: middle;\n",
       "    }\n",
       "\n",
       "    .dataframe tbody tr th {\n",
       "        vertical-align: top;\n",
       "    }\n",
       "\n",
       "    .dataframe thead th {\n",
       "        text-align: right;\n",
       "    }\n",
       "</style>\n",
       "<table border=\"1\" class=\"dataframe\">\n",
       "  <thead>\n",
       "    <tr style=\"text-align: right;\">\n",
       "      <th></th>\n",
       "      <th>name</th>\n",
       "      <th>forward_triangles</th>\n",
       "      <th>edges</th>\n",
       "      <th>triangles per edge</th>\n",
       "      <th>dir</th>\n",
       "      <th>pers</th>\n",
       "      <th>agg_triangles</th>\n",
       "      <th>ratio</th>\n",
       "      <th>nodes</th>\n",
       "      <th>times</th>\n",
       "      <th>agg_triangles_edges</th>\n",
       "      <th>agg_triangles_VT</th>\n",
       "      <th>pers_E</th>\n",
       "    </tr>\n",
       "  </thead>\n",
       "  <tbody>\n",
       "    <tr>\n",
       "      <th>0</th>\n",
       "      <td>aves-weaver-social</td>\n",
       "      <td>0.0</td>\n",
       "      <td>1333.0</td>\n",
       "      <td>0.000000</td>\n",
       "      <td>False</td>\n",
       "      <td>0.000000</td>\n",
       "      <td>2.061000e+03</td>\n",
       "      <td>0.000000</td>\n",
       "      <td>445</td>\n",
       "      <td>23</td>\n",
       "      <td>1.546137</td>\n",
       "      <td>0.201368</td>\n",
       "      <td>0.000000</td>\n",
       "    </tr>\n",
       "    <tr>\n",
       "      <th>1</th>\n",
       "      <td>ht09</td>\n",
       "      <td>43387159.0</td>\n",
       "      <td>20818.0</td>\n",
       "      <td>2084.117543</td>\n",
       "      <td>False</td>\n",
       "      <td>18540.519962</td>\n",
       "      <td>9.317345e+07</td>\n",
       "      <td>0.465660</td>\n",
       "      <td>113</td>\n",
       "      <td>5246</td>\n",
       "      <td>4475.619800</td>\n",
       "      <td>157.175721</td>\n",
       "      <td>0.445300</td>\n",
       "    </tr>\n",
       "    <tr>\n",
       "      <th>2</th>\n",
       "      <td>workplace_2013</td>\n",
       "      <td>12526661.0</td>\n",
       "      <td>9827.0</td>\n",
       "      <td>1274.718734</td>\n",
       "      <td>False</td>\n",
       "      <td>11556.261381</td>\n",
       "      <td>2.340273e+07</td>\n",
       "      <td>0.535265</td>\n",
       "      <td>92</td>\n",
       "      <td>7104</td>\n",
       "      <td>2381.472067</td>\n",
       "      <td>35.807637</td>\n",
       "      <td>0.587985</td>\n",
       "    </tr>\n",
       "    <tr>\n",
       "      <th>3</th>\n",
       "      <td>mammalia-primate-association</td>\n",
       "      <td>138221.0</td>\n",
       "      <td>1340.0</td>\n",
       "      <td>103.150000</td>\n",
       "      <td>False</td>\n",
       "      <td>112.687757</td>\n",
       "      <td>3.716250e+05</td>\n",
       "      <td>0.371937</td>\n",
       "      <td>25</td>\n",
       "      <td>19</td>\n",
       "      <td>277.332090</td>\n",
       "      <td>782.368421</td>\n",
       "      <td>0.042048</td>\n",
       "    </tr>\n",
       "    <tr>\n",
       "      <th>4</th>\n",
       "      <td>mammalia-raccoon-proximity</td>\n",
       "      <td>626895.0</td>\n",
       "      <td>1997.0</td>\n",
       "      <td>313.918378</td>\n",
       "      <td>False</td>\n",
       "      <td>471.763040</td>\n",
       "      <td>1.436885e+06</td>\n",
       "      <td>0.436288</td>\n",
       "      <td>24</td>\n",
       "      <td>52</td>\n",
       "      <td>719.521783</td>\n",
       "      <td>1151.350160</td>\n",
       "      <td>0.118118</td>\n",
       "    </tr>\n",
       "    <tr>\n",
       "      <th>5</th>\n",
       "      <td>talk_eo</td>\n",
       "      <td>18718274.0</td>\n",
       "      <td>37003.0</td>\n",
       "      <td>505.858282</td>\n",
       "      <td>True</td>\n",
       "      <td>5561.363961</td>\n",
       "      <td>3.677769e+07</td>\n",
       "      <td>0.508957</td>\n",
       "      <td>7585</td>\n",
       "      <td>32352</td>\n",
       "      <td>993.911142</td>\n",
       "      <td>0.149875</td>\n",
       "      <td>0.075147</td>\n",
       "    </tr>\n",
       "    <tr>\n",
       "      <th>6</th>\n",
       "      <td>dnc</td>\n",
       "      <td>34350493.0</td>\n",
       "      <td>31727.0</td>\n",
       "      <td>1082.689602</td>\n",
       "      <td>True</td>\n",
       "      <td>716.938054</td>\n",
       "      <td>6.789197e+07</td>\n",
       "      <td>0.505958</td>\n",
       "      <td>1891</td>\n",
       "      <td>18682</td>\n",
       "      <td>2139.880008</td>\n",
       "      <td>1.921779</td>\n",
       "      <td>0.011299</td>\n",
       "    </tr>\n",
       "    <tr>\n",
       "      <th>7</th>\n",
       "      <td>fb-forum</td>\n",
       "      <td>21785.0</td>\n",
       "      <td>33682.0</td>\n",
       "      <td>0.646785</td>\n",
       "      <td>True</td>\n",
       "      <td>1322.000000</td>\n",
       "      <td>4.440900e+04</td>\n",
       "      <td>0.490554</td>\n",
       "      <td>899</td>\n",
       "      <td>33483</td>\n",
       "      <td>1.318479</td>\n",
       "      <td>0.001475</td>\n",
       "      <td>0.019625</td>\n",
       "    </tr>\n",
       "    <tr>\n",
       "      <th>8</th>\n",
       "      <td>email-eu2</td>\n",
       "      <td>768179307.0</td>\n",
       "      <td>46010.0</td>\n",
       "      <td>16695.920604</td>\n",
       "      <td>True</td>\n",
       "      <td>2807.110315</td>\n",
       "      <td>1.524894e+09</td>\n",
       "      <td>0.503759</td>\n",
       "      <td>162</td>\n",
       "      <td>32340</td>\n",
       "      <td>33142.663530</td>\n",
       "      <td>291.061398</td>\n",
       "      <td>0.030505</td>\n",
       "    </tr>\n",
       "    <tr>\n",
       "      <th>9</th>\n",
       "      <td>email-eu3</td>\n",
       "      <td>3647777.0</td>\n",
       "      <td>12051.0</td>\n",
       "      <td>302.694963</td>\n",
       "      <td>True</td>\n",
       "      <td>725.054586</td>\n",
       "      <td>7.166190e+06</td>\n",
       "      <td>0.509026</td>\n",
       "      <td>89</td>\n",
       "      <td>8911</td>\n",
       "      <td>594.655215</td>\n",
       "      <td>9.035909</td>\n",
       "      <td>0.030083</td>\n",
       "    </tr>\n",
       "  </tbody>\n",
       "</table>\n",
       "</div>"
      ],
      "text/plain": [
       "                           name  forward_triangles    edges  \\\n",
       "0            aves-weaver-social                0.0   1333.0   \n",
       "1                          ht09         43387159.0  20818.0   \n",
       "2                workplace_2013         12526661.0   9827.0   \n",
       "3  mammalia-primate-association           138221.0   1340.0   \n",
       "4    mammalia-raccoon-proximity           626895.0   1997.0   \n",
       "5                       talk_eo         18718274.0  37003.0   \n",
       "6                           dnc         34350493.0  31727.0   \n",
       "7                      fb-forum            21785.0  33682.0   \n",
       "8                     email-eu2        768179307.0  46010.0   \n",
       "9                     email-eu3          3647777.0  12051.0   \n",
       "\n",
       "   triangles per edge    dir          pers  agg_triangles     ratio  nodes  \\\n",
       "0            0.000000  False      0.000000   2.061000e+03  0.000000    445   \n",
       "1         2084.117543  False  18540.519962   9.317345e+07  0.465660    113   \n",
       "2         1274.718734  False  11556.261381   2.340273e+07  0.535265     92   \n",
       "3          103.150000  False    112.687757   3.716250e+05  0.371937     25   \n",
       "4          313.918378  False    471.763040   1.436885e+06  0.436288     24   \n",
       "5          505.858282   True   5561.363961   3.677769e+07  0.508957   7585   \n",
       "6         1082.689602   True    716.938054   6.789197e+07  0.505958   1891   \n",
       "7            0.646785   True   1322.000000   4.440900e+04  0.490554    899   \n",
       "8        16695.920604   True   2807.110315   1.524894e+09  0.503759    162   \n",
       "9          302.694963   True    725.054586   7.166190e+06  0.509026     89   \n",
       "\n",
       "   times  agg_triangles_edges  agg_triangles_VT    pers_E  \n",
       "0     23             1.546137          0.201368  0.000000  \n",
       "1   5246          4475.619800        157.175721  0.445300  \n",
       "2   7104          2381.472067         35.807637  0.587985  \n",
       "3     19           277.332090        782.368421  0.042048  \n",
       "4     52           719.521783       1151.350160  0.118118  \n",
       "5  32352           993.911142          0.149875  0.075147  \n",
       "6  18682          2139.880008          1.921779  0.011299  \n",
       "7  33483             1.318479          0.001475  0.019625  \n",
       "8  32340         33142.663530        291.061398  0.030505  \n",
       "9   8911           594.655215          9.035909  0.030083  "
      ]
     },
     "execution_count": 63,
     "metadata": {},
     "output_type": "execute_result"
    }
   ],
   "source": [
    "df[\"agg_triangles_edges\"] = df[\"agg_triangles\"]/(df[\"edges\"])\n",
    "df[\"agg_triangles_VT\"] = df[\"agg_triangles\"]/(df[\"nodes\"]*df[\"times\"])\n",
    "df[\"pers_E\"] = df[\"pers\"]/(df[\"edges\"])/2\n",
    "df"
   ]
  },
  {
   "cell_type": "code",
   "execution_count": 64,
   "id": "2089427e",
   "metadata": {},
   "outputs": [],
   "source": [
    "from tnestmodel.temp_properties import burstiness"
   ]
  },
  {
   "cell_type": "code",
   "execution_count": 65,
   "id": "6d3b757b",
   "metadata": {},
   "outputs": [
    {
     "name": "stdout",
     "output_type": "stream",
     "text": [
      "CSVDataset(aves-weaver-social, False) (0.8230845613465078, 0.8230845613465078, 0.8230845613465078)\n",
      "CSVDataset(ht09, False) (0.7946953467708944, 0.7946953467708944, 0.7946953467708944)\n",
      "CSVDataset(workplace_2013, False) (0.7325472002045527, 0.7325472002045527, 0.7325472002045527)\n",
      "CSVDataset(mammalia-primate-association, False) (0.5707315120052295, 0.5707315120052295, 0.5707315120052295)\n",
      "CSVDataset(mammalia-raccoon-proximity, False) (0.4584479062197504, 0.4584479062197504, 0.4584479062197504)\n",
      "CSVDataset(talk_eo, True) (0.7456877685382545, 0.6274205783923539, 0.7264999853076153)\n",
      "CSVDataset(dnc, True) (0.8623035309154276, 0.821485794869698, 0.8553770184336326)\n",
      "CSVDataset(fb-forum, True) (0.6314172454500498, 0.536934306068052, 0.6128361343172726)\n",
      "CSVDataset(email-eu2, True) (0.758320281839842, 0.7409402432692938, 0.811241321765743)\n",
      "CSVDataset(email-eu3, True) (0.6658931689478838, 0.6461695676688121, 0.7353374598921935)\n"
     ]
    }
   ],
   "source": [
    "burstinesses = []\n",
    "for dataset, G in zip(datasets, Gs):\n",
    "    if dataset.name==\"hospital_ward\":\n",
    "        G_out = G\n",
    "    B = burstiness(G)\n",
    "    burstinesses.append(B)\n",
    "    print(dataset, B)"
   ]
  },
  {
   "cell_type": "code",
   "execution_count": 66,
   "id": "61600213",
   "metadata": {},
   "outputs": [
    {
     "data": {
      "text/plain": [
       "(0.6658931689478838, 0.6461695676688121, 0.7353374598921935)"
      ]
     },
     "execution_count": 66,
     "metadata": {},
     "output_type": "execute_result"
    }
   ],
   "source": [
    "burstiness(G)"
   ]
  },
  {
   "cell_type": "code",
   "execution_count": 67,
   "id": "55080f8b",
   "metadata": {},
   "outputs": [],
   "source": [
    "# %%time\n",
    "# calculator = GroupNodeByColor(G, h=10000)\n",
    "# for d in range(0, 2):\n",
    "  #  print(\"<<< depth\", d)\n",
    "   # calculator.prepare(d)\n",
    "   # t, arr = G.compute_for_each_slice(calculator.calc_for_slice, min_size=1, call_with_time=True)\n",
    "   # print(np.all(arr==89))"
   ]
  },
  {
   "cell_type": "code",
   "execution_count": 68,
   "id": "627fab8f",
   "metadata": {},
   "outputs": [
    {
     "name": "stdout",
     "output_type": "stream",
     "text": [
      "8911 12\n"
     ]
    }
   ],
   "source": [
    "print(len(arr), (arr==88).sum())"
   ]
  },
  {
   "cell_type": "code",
   "execution_count": null,
   "id": "353dab47",
   "metadata": {},
   "outputs": [],
   "source": []
  },
  {
   "cell_type": "code",
   "execution_count": null,
   "id": "5260aa6c",
   "metadata": {},
   "outputs": [],
   "source": []
  },
  {
   "cell_type": "code",
   "execution_count": 69,
   "id": "b72ec2da",
   "metadata": {},
   "outputs": [],
   "source": [
    "from tnestmodel.temp_rewire import rewire_temporal_graph_dir"
   ]
  },
  {
   "cell_type": "code",
   "execution_count": null,
   "id": "6089617c",
   "metadata": {},
   "outputs": [],
   "source": []
  },
  {
   "cell_type": "code",
   "execution_count": 70,
   "id": "f5abcc9a",
   "metadata": {},
   "outputs": [],
   "source": [
    "def get_properties(G):\n",
    "    B_in, B_out, B = burstiness(G)\n",
    "    triangles = numba_get_all_triangles(G)\n",
    "    c_triangles = causal_triangles(G)\n",
    "    persistence = get_edge_persistence(G)\n",
    "    num_times = len(G.times)\n",
    "    num_edges = get_total_number_of_edges(G)\n",
    "    num_nodes = G.num_nodes\n",
    "    return B_in, B_out, B, triangles, c_triangles, persistence, num_times, num_edges, num_nodes"
   ]
  },
  {
   "cell_type": "code",
   "execution_count": 72,
   "id": "c3d87f34-5964-4383-aa75-92ce89cba8da",
   "metadata": {},
   "outputs": [],
   "source": [
    "#def randomize_RTE_undir(G, n_steps):\n",
    "#    for i in range(10):"
   ]
  },
  {
   "cell_type": "code",
   "execution_count": 93,
   "id": "41a98922-6647-4e6b-964e-6230760791e9",
   "metadata": {},
   "outputs": [],
   "source": [
    "def undir_stub_matching(G, seed=None, max_tries=1000):\n",
    "    assert not G.is_directed\n",
    "    if seed is not None:\n",
    "        np.random.seed(seed)\n",
    "    E = G.to_temporal_edges()\n",
    "    counts1 = np.bincount(E[:,0].ravel(), minlength=G.num_nodes)\n",
    "    counts2 = np.bincount(E[:,1].ravel(), minlength=G.num_nodes)\n",
    "    num_edges = E.shape[0]\n",
    "    tmp = np.empty(num_edges*2, dtype=E.dtype)\n",
    "    tmp[0:num_edges] = E[:,0]\n",
    "    tmp[num_edges:] = E[:,1]\n",
    "    for num_tries in range(max_tries):\n",
    "        tmp = tmp[np.random.permutation(2*num_edges)]\n",
    "        out = tmp.reshape(num_edges, 2)\n",
    "        if np.all(out[:,0]!=out[:,1]):\n",
    "            print(num_tries)\n",
    "            break\n",
    "    return out\n",
    "    \n",
    "    "
   ]
  },
  {
   "cell_type": "code",
   "execution_count": 94,
   "id": "0335e1b9-90cd-428f-91a8-9052a8005042",
   "metadata": {},
   "outputs": [],
   "source": [
    "for dataset, G in zip(datasets, Gs):\n",
    "    if not G.is_directed:\n",
    "        break"
   ]
  },
  {
   "cell_type": "code",
   "execution_count": 99,
   "id": "607da438-6608-415c-b3c0-ff2549a39b44",
   "metadata": {},
   "outputs": [
    {
     "name": "stdout",
     "output_type": "stream",
     "text": [
      "56\n",
      "CPU times: total: 0 ns\n",
      "Wall time: 4 ms\n"
     ]
    },
    {
     "data": {
      "text/plain": [
       "array([[230,  87],\n",
       "       [344, 406],\n",
       "       [399, 400],\n",
       "       ...,\n",
       "       [402, 396],\n",
       "       [387, 274],\n",
       "       [103, 273]], dtype=int64)"
      ]
     },
     "execution_count": 99,
     "metadata": {},
     "output_type": "execute_result"
    }
   ],
   "source": [
    "%%time\n",
    "undir_stub_matching(G, seed=1)"
   ]
  },
  {
   "cell_type": "code",
   "execution_count": null,
   "id": "458bf3d7-b521-40d2-92c1-1fcc6aba8bc7",
   "metadata": {},
   "outputs": [],
   "source": []
  },
  {
   "cell_type": "code",
   "execution_count": null,
   "id": "3bb49ede-ef00-4e83-8f04-7400d14e20ad",
   "metadata": {},
   "outputs": [],
   "source": []
  },
  {
   "cell_type": "code",
   "execution_count": 33,
   "id": "daf4ab78-3096-41f4-bd15-c1dca33b1e2e",
   "metadata": {},
   "outputs": [],
   "source": [
    "from numba import njit"
   ]
  },
  {
   "cell_type": "code",
   "execution_count": 35,
   "id": "dfc6c5e8",
   "metadata": {},
   "outputs": [],
   "source": [
    "from tnestmodel.temp_generation import randomize_keeping_aggregate_graph"
   ]
  },
  {
   "cell_type": "code",
   "execution_count": 36,
   "id": "104da310-aa67-4061-aed5-eeeb253158c6",
   "metadata": {},
   "outputs": [],
   "source": [
    "from tnestmodel.temp_properties import _get_aggregated_graph"
   ]
  },
  {
   "cell_type": "code",
   "execution_count": 38,
   "id": "c8e6ee63-e6ac-4842-9839-0e345f2fe77a",
   "metadata": {
    "scrolled": true
   },
   "outputs": [
    {
     "name": "stdout",
     "output_type": "stream",
     "text": [
      "CSVDataset(aves-weaver-social, False) 0 True\n",
      "CSVDataset(aves-weaver-social, False) 0 False\n",
      "CSVDataset(aves-weaver-social, False) 1 True\n",
      "CSVDataset(aves-weaver-social, False) 1 False\n",
      "CSVDataset(aves-weaver-social, False) 2 True\n",
      "CSVDataset(aves-weaver-social, False) 2 False\n",
      "CSVDataset(aves-weaver-social, False) 3 True\n",
      "CSVDataset(aves-weaver-social, False) 3 False\n",
      "CSVDataset(aves-weaver-social, False) 4 True\n",
      "CSVDataset(aves-weaver-social, False) 4 False\n",
      "CSVDataset(aves-weaver-social, False) 5 True\n",
      "CSVDataset(aves-weaver-social, False) 5 False\n",
      "CSVDataset(aves-weaver-social, False) 6 True\n",
      "CSVDataset(aves-weaver-social, False) 6 False\n",
      "CSVDataset(aves-weaver-social, False) 7 True\n",
      "CSVDataset(aves-weaver-social, False) 7 False\n",
      "CSVDataset(aves-weaver-social, False) 8 True\n",
      "CSVDataset(aves-weaver-social, False) 8 False\n",
      "CSVDataset(aves-weaver-social, False) 9 True\n",
      "CSVDataset(aves-weaver-social, False) 9 False\n",
      "CSVDataset(ht09, False) 0 True\n",
      "CSVDataset(ht09, False) 0 False\n",
      "CSVDataset(ht09, False) 1 True\n",
      "CSVDataset(ht09, False) 1 False\n",
      "CSVDataset(ht09, False) 2 True\n",
      "CSVDataset(ht09, False) 2 False\n",
      "CSVDataset(ht09, False) 3 True\n",
      "CSVDataset(ht09, False) 3 False\n",
      "CSVDataset(ht09, False) 4 True\n",
      "CSVDataset(ht09, False) 4 False\n",
      "CSVDataset(ht09, False) 5 True\n",
      "CSVDataset(ht09, False) 5 False\n",
      "CSVDataset(ht09, False) 6 True\n",
      "CSVDataset(ht09, False) 6 False\n",
      "CSVDataset(ht09, False) 7 True\n",
      "CSVDataset(ht09, False) 7 False\n",
      "CSVDataset(ht09, False) 8 True\n",
      "CSVDataset(ht09, False) 8 False\n",
      "CSVDataset(ht09, False) 9 True\n",
      "CSVDataset(ht09, False) 9 False\n",
      "CSVDataset(workplace_2013, False) 0 True\n",
      "CSVDataset(workplace_2013, False) 0 False\n",
      "CSVDataset(workplace_2013, False) 1 True\n",
      "CSVDataset(workplace_2013, False) 1 False\n",
      "CSVDataset(workplace_2013, False) 2 True\n",
      "CSVDataset(workplace_2013, False) 2 False\n",
      "CSVDataset(workplace_2013, False) 3 True\n",
      "CSVDataset(workplace_2013, False) 3 False\n",
      "CSVDataset(workplace_2013, False) 4 True\n",
      "CSVDataset(workplace_2013, False) 4 False\n",
      "CSVDataset(workplace_2013, False) 5 True\n",
      "CSVDataset(workplace_2013, False) 5 False\n",
      "CSVDataset(workplace_2013, False) 6 True\n",
      "CSVDataset(workplace_2013, False) 6 False\n",
      "CSVDataset(workplace_2013, False) 7 True\n",
      "CSVDataset(workplace_2013, False) 7 False\n",
      "CSVDataset(workplace_2013, False) 8 True\n",
      "CSVDataset(workplace_2013, False) 8 False\n",
      "CSVDataset(workplace_2013, False) 9 True\n",
      "CSVDataset(workplace_2013, False) 9 False\n",
      "CSVDataset(mammalia-primate-association, False) 0 True\n",
      "CSVDataset(mammalia-primate-association, False) 0 False\n",
      "CSVDataset(mammalia-primate-association, False) 1 True\n",
      "CSVDataset(mammalia-primate-association, False) 1 False\n",
      "CSVDataset(mammalia-primate-association, False) 2 True\n",
      "CSVDataset(mammalia-primate-association, False) 2 False\n",
      "CSVDataset(mammalia-primate-association, False) 3 True\n",
      "CSVDataset(mammalia-primate-association, False) 3 False\n",
      "CSVDataset(mammalia-primate-association, False) 4 True\n",
      "CSVDataset(mammalia-primate-association, False) 4 False\n",
      "CSVDataset(mammalia-primate-association, False) 5 True\n",
      "CSVDataset(mammalia-primate-association, False) 5 False\n",
      "CSVDataset(mammalia-primate-association, False) 6 True\n",
      "CSVDataset(mammalia-primate-association, False) 6 False\n",
      "CSVDataset(mammalia-primate-association, False) 7 True\n",
      "CSVDataset(mammalia-primate-association, False) 7 False\n",
      "CSVDataset(mammalia-primate-association, False) 8 True\n",
      "CSVDataset(mammalia-primate-association, False) 8 False\n",
      "CSVDataset(mammalia-primate-association, False) 9 True\n",
      "CSVDataset(mammalia-primate-association, False) 9 False\n",
      "CSVDataset(mammalia-raccoon-proximity, False) 0 True\n",
      "CSVDataset(mammalia-raccoon-proximity, False) 0 False\n",
      "CSVDataset(mammalia-raccoon-proximity, False) 1 True\n",
      "CSVDataset(mammalia-raccoon-proximity, False) 1 False\n",
      "CSVDataset(mammalia-raccoon-proximity, False) 2 True\n",
      "CSVDataset(mammalia-raccoon-proximity, False) 2 False\n",
      "CSVDataset(mammalia-raccoon-proximity, False) 3 True\n",
      "CSVDataset(mammalia-raccoon-proximity, False) 3 False\n",
      "CSVDataset(mammalia-raccoon-proximity, False) 4 True\n",
      "CSVDataset(mammalia-raccoon-proximity, False) 4 False\n",
      "CSVDataset(mammalia-raccoon-proximity, False) 5 True\n",
      "CSVDataset(mammalia-raccoon-proximity, False) 5 False\n",
      "CSVDataset(mammalia-raccoon-proximity, False) 6 True\n",
      "CSVDataset(mammalia-raccoon-proximity, False) 6 False\n",
      "CSVDataset(mammalia-raccoon-proximity, False) 7 True\n",
      "CSVDataset(mammalia-raccoon-proximity, False) 7 False\n",
      "CSVDataset(mammalia-raccoon-proximity, False) 8 True\n",
      "CSVDataset(mammalia-raccoon-proximity, False) 8 False\n",
      "CSVDataset(mammalia-raccoon-proximity, False) 9 True\n",
      "CSVDataset(mammalia-raccoon-proximity, False) 9 False\n",
      "CSVDataset(talk_eo, True) 0 True\n",
      "CSVDataset(talk_eo, True) 0 False\n",
      "CSVDataset(talk_eo, True) 1 True\n",
      "CSVDataset(talk_eo, True) 1 False\n",
      "CSVDataset(talk_eo, True) 2 True\n",
      "CSVDataset(talk_eo, True) 2 False\n",
      "CSVDataset(talk_eo, True) 3 True\n",
      "CSVDataset(talk_eo, True) 3 False\n",
      "CSVDataset(talk_eo, True) 4 True\n",
      "CSVDataset(talk_eo, True) 4 False\n",
      "CSVDataset(talk_eo, True) 5 True\n",
      "CSVDataset(talk_eo, True) 5 False\n",
      "CSVDataset(talk_eo, True) 6 True\n",
      "CSVDataset(talk_eo, True) 6 False\n",
      "CSVDataset(talk_eo, True) 7 True\n",
      "CSVDataset(talk_eo, True) 7 False\n",
      "CSVDataset(talk_eo, True) 8 True\n",
      "CSVDataset(talk_eo, True) 8 False\n",
      "CSVDataset(talk_eo, True) 9 True\n",
      "CSVDataset(talk_eo, True) 9 False\n",
      "CSVDataset(dnc, True) 0 True\n",
      "CSVDataset(dnc, True) 0 False\n",
      "CSVDataset(dnc, True) 1 True\n",
      "CSVDataset(dnc, True) 1 False\n",
      "CSVDataset(dnc, True) 2 True\n",
      "CSVDataset(dnc, True) 2 False\n",
      "CSVDataset(dnc, True) 3 True\n",
      "CSVDataset(dnc, True) 3 False\n",
      "CSVDataset(dnc, True) 4 True\n",
      "CSVDataset(dnc, True) 4 False\n",
      "CSVDataset(dnc, True) 5 True\n",
      "CSVDataset(dnc, True) 5 False\n",
      "CSVDataset(dnc, True) 6 True\n",
      "CSVDataset(dnc, True) 6 False\n",
      "CSVDataset(dnc, True) 7 True\n",
      "CSVDataset(dnc, True) 7 False\n",
      "CSVDataset(dnc, True) 8 True\n",
      "CSVDataset(dnc, True) 8 False\n",
      "CSVDataset(dnc, True) 9 True\n",
      "CSVDataset(dnc, True) 9 False\n",
      "CSVDataset(fb-forum, True) 0 True\n",
      "CSVDataset(fb-forum, True) 0 False\n",
      "CSVDataset(fb-forum, True) 1 True\n",
      "CSVDataset(fb-forum, True) 1 False\n",
      "CSVDataset(fb-forum, True) 2 True\n",
      "CSVDataset(fb-forum, True) 2 False\n",
      "CSVDataset(fb-forum, True) 3 True\n",
      "CSVDataset(fb-forum, True) 3 False\n",
      "CSVDataset(fb-forum, True) 4 True\n",
      "CSVDataset(fb-forum, True) 4 False\n",
      "CSVDataset(fb-forum, True) 5 True\n",
      "CSVDataset(fb-forum, True) 5 False\n",
      "CSVDataset(fb-forum, True) 6 True\n",
      "CSVDataset(fb-forum, True) 6 False\n",
      "CSVDataset(fb-forum, True) 7 True\n",
      "CSVDataset(fb-forum, True) 7 False\n",
      "CSVDataset(fb-forum, True) 8 True\n",
      "CSVDataset(fb-forum, True) 8 False\n",
      "CSVDataset(fb-forum, True) 9 True\n",
      "CSVDataset(fb-forum, True) 9 False\n",
      "CSVDataset(email-eu2, True) 0 True\n",
      "CSVDataset(email-eu2, True) 0 False\n",
      "CSVDataset(email-eu2, True) 1 True\n",
      "CSVDataset(email-eu2, True) 1 False\n",
      "CSVDataset(email-eu2, True) 2 True\n",
      "CSVDataset(email-eu2, True) 2 False\n",
      "CSVDataset(email-eu2, True) 3 True\n",
      "CSVDataset(email-eu2, True) 3 False\n",
      "CSVDataset(email-eu2, True) 4 True\n",
      "CSVDataset(email-eu2, True) 4 False\n",
      "CSVDataset(email-eu2, True) 5 True\n",
      "CSVDataset(email-eu2, True) 5 False\n",
      "CSVDataset(email-eu2, True) 6 True\n",
      "CSVDataset(email-eu2, True) 6 False\n",
      "CSVDataset(email-eu2, True) 7 True\n",
      "CSVDataset(email-eu2, True) 7 False\n",
      "CSVDataset(email-eu2, True) 8 True\n",
      "CSVDataset(email-eu2, True) 8 False\n",
      "CSVDataset(email-eu2, True) 9 True\n",
      "CSVDataset(email-eu2, True) 9 False\n",
      "CSVDataset(email-eu3, True) 0 True\n",
      "CSVDataset(email-eu3, True) 0 False\n",
      "CSVDataset(email-eu3, True) 1 True\n",
      "CSVDataset(email-eu3, True) 1 False\n",
      "CSVDataset(email-eu3, True) 2 True\n",
      "CSVDataset(email-eu3, True) 2 False\n",
      "CSVDataset(email-eu3, True) 3 True\n",
      "CSVDataset(email-eu3, True) 3 False\n",
      "CSVDataset(email-eu3, True) 4 True\n",
      "CSVDataset(email-eu3, True) 4 False\n",
      "CSVDataset(email-eu3, True) 5 True\n",
      "CSVDataset(email-eu3, True) 5 False\n",
      "CSVDataset(email-eu3, True) 6 True\n",
      "CSVDataset(email-eu3, True) 6 False\n",
      "CSVDataset(email-eu3, True) 7 True\n",
      "CSVDataset(email-eu3, True) 7 False\n",
      "CSVDataset(email-eu3, True) 8 True\n",
      "CSVDataset(email-eu3, True) 8 False\n",
      "CSVDataset(email-eu3, True) 9 True\n",
      "CSVDataset(email-eu3, True) 9 False\n",
      "CPU times: total: 1min 23s\n",
      "Wall time: 3min 4s\n"
     ]
    }
   ],
   "source": [
    "%%time\n",
    "#%%snakeviz -t\n",
    "num_seeds = 10\n",
    "records_agg = []\n",
    "for dataset, G in zip(datasets, Gs):\n",
    "    agg_graph = _get_aggregated_graph(G, ignore_directionality=True) # need to ignore directionality, otherwise \n",
    "    for seed in range(num_seeds):\n",
    "        for keep_multiplicities in [True, False]:\n",
    "            print(dataset, seed, keep_multiplicities)\n",
    "            E = randomize_keeping_aggregate_graph(agg_graph, G.times, keep_multiplicities, seed=seed)\n",
    "            G_rew = SparseTempFastGraph.from_temporal_edges(E, G.is_directed)\n",
    "            params = get_properties(G_rew)\n",
    "\n",
    "            records_agg.append((dataset.abbr, seed, f\"agg_{keep_multiplicities}\", *params))"
   ]
  },
  {
   "cell_type": "code",
   "execution_count": null,
   "id": "32459c35",
   "metadata": {},
   "outputs": [],
   "source": [
    "df_agg = pd.DataFrame.from_records(records_agg, columns = [\"abbr\", \"seed\", \"depth\", \"B_in\", \"B_out\", \"B\", \"triangles\", \"c_triangles\", \"persistence\",  \"num_times\", \"num_edges\", \"num_nodes\"] )"
   ]
  },
  {
   "cell_type": "code",
   "execution_count": null,
   "id": "11d06dc9",
   "metadata": {},
   "outputs": [],
   "source": [
    "df_agg.to_csv(\"agg_graphs.csv\")"
   ]
  },
  {
   "cell_type": "code",
   "execution_count": null,
   "id": "402af7ef",
   "metadata": {
    "scrolled": true
   },
   "outputs": [],
   "source": [
    "%%time\n",
    "#%%snakeviz -t\n",
    "num_seeds = 10\n",
    "records = []\n",
    "for dataset, G in zip(datasets, Gs):\n",
    "    if G.is_directed:\n",
    "        continue\n",
    "    params = get_properties(G)\n",
    "    records.append((dataset.abbr, -1, -1, *params))\n",
    "    for seed in range(num_seeds):\n",
    "        for depth in [0,1,len(G.s.colors_per_round)-1]:\n",
    "\n",
    "            print(dataset, seed, depth)\n",
    "            h = -1\n",
    "            if not G.s is None:\n",
    "                h = G.s.h\n",
    "            G_rew = G.copy()\n",
    "            G_rew.rewire_slices(depth=depth, seed=seed, method=1, r=10)\n",
    "            \n",
    "            params = get_properties(G_rew)\n",
    "\n",
    "            records.append((dataset.abbr, seed, depth, *params))"
   ]
  },
  {
   "cell_type": "code",
   "execution_count": null,
   "id": "0a4e7699",
   "metadata": {},
   "outputs": [],
   "source": [
    "df_undir = pd.DataFrame.from_records(records, columns = [\"abbr\", \"seed\", \"depth\", \"B_in\", \"B_out\", \"B\", \"triangles\", \"c_triangles\", \"persistence\",  \"num_times\", \"num_edges\", \"num_nodes\"] )"
   ]
  },
  {
   "cell_type": "code",
   "execution_count": null,
   "id": "3473f783",
   "metadata": {},
   "outputs": [],
   "source": [
    "df_undir.to_csv(\"undirected_graphs.csv\")"
   ]
  },
  {
   "cell_type": "code",
   "execution_count": null,
   "id": "613957ce",
   "metadata": {},
   "outputs": [],
   "source": [
    "%%time\n",
    "#%%snakeviz -t\n",
    "num_seeds = 10\n",
    "records_2 = []\n",
    "for dataset, G in zip(datasets, Gs):\n",
    "    if not G.is_directed:\n",
    "        continue\n",
    "    params = get_properties(G)\n",
    "    records_2.append((dataset.abbr, -1, -1, *params))\n",
    "    for seed in range(num_seeds):\n",
    "        for depth in [0,1,len(G.s.colors_per_round)-1]:\n",
    "\n",
    "            print(dataset, seed, depth)\n",
    "            h = -1\n",
    "            if not G.s is None:\n",
    "                h = G.s.h\n",
    "            G_rew = rewire_temporal_graph_dir(G, d=depth, seed=seed, h=h)\n",
    "            \n",
    "            params = get_properties(G_rew)\n",
    "\n",
    "            records_2.append((dataset.abbr, seed, depth, *params))"
   ]
  },
  {
   "cell_type": "code",
   "execution_count": null,
   "id": "c4e52bef",
   "metadata": {},
   "outputs": [],
   "source": [
    "df = pd.DataFrame.from_records(records_2, columns = [\"abbr\", \"seed\", \"depth\", \"B_in\", \"B_out\", \"B\", \"triangles\", \"c_triangles\", \"persistence\",  \"num_times\", \"num_edges\", \"num_nodes\"] )"
   ]
  },
  {
   "cell_type": "code",
   "execution_count": null,
   "id": "e4474773",
   "metadata": {},
   "outputs": [],
   "source": [
    "df"
   ]
  },
  {
   "cell_type": "code",
   "execution_count": null,
   "id": "ffcaa2a7",
   "metadata": {},
   "outputs": [],
   "source": [
    "df.to_csv(\"directed_graphs.csv\")"
   ]
  },
  {
   "cell_type": "code",
   "execution_count": null,
   "id": "d32a4d5a",
   "metadata": {},
   "outputs": [],
   "source": [
    "G_rew.to_temporal_edges()"
   ]
  },
  {
   "cell_type": "code",
   "execution_count": null,
   "id": "10874298",
   "metadata": {},
   "outputs": [],
   "source": [
    "G.to_temporal_edges()"
   ]
  },
  {
   "cell_type": "code",
   "execution_count": null,
   "id": "023f3322",
   "metadata": {},
   "outputs": [],
   "source": [
    "G.num_nodes"
   ]
  },
  {
   "cell_type": "code",
   "execution_count": null,
   "id": "080f3e2d",
   "metadata": {},
   "outputs": [],
   "source": [
    "a,b,c = inter_arrival_times(G)"
   ]
  },
  {
   "cell_type": "code",
   "execution_count": null,
   "id": "245f3186",
   "metadata": {},
   "outputs": [],
   "source": [
    "plt.hist(np.log(b+1), bins=31)"
   ]
  },
  {
   "cell_type": "code",
   "execution_count": null,
   "id": "e00c2670",
   "metadata": {},
   "outputs": [],
   "source": [
    "plt.hist(np.log(a+1), bins=30)"
   ]
  },
  {
   "cell_type": "code",
   "execution_count": null,
   "id": "d2dcc193",
   "metadata": {},
   "outputs": [],
   "source": [
    "G.to_temporal_edges()[:,2]"
   ]
  },
  {
   "cell_type": "code",
   "execution_count": null,
   "id": "8c42b25e",
   "metadata": {},
   "outputs": [],
   "source": [
    "print(datasets[5].mapping)"
   ]
  },
  {
   "cell_type": "code",
   "execution_count": null,
   "id": "1dff80f0",
   "metadata": {},
   "outputs": [],
   "source": [
    "#current_colors [313 247]\n",
    "#set     colors [310 247]"
   ]
  },
  {
   "cell_type": "code",
   "execution_count": null,
   "id": "a3894730",
   "metadata": {},
   "outputs": [],
   "source": [
    "edges1 = [[2,1,2],\n",
    "[3,4,2],\n",
    "[3,1,1],\n",
    "[4,3,2],\n",
    "[0,2,3],\n",
    "[1,2,2],\n",
    "[1,0,3],\n",
    "[2,0,3],\n",
    "[1,3,1],\n",
    "[0,1,3],]"
   ]
  },
  {
   "cell_type": "code",
   "execution_count": null,
   "id": "7a63a188",
   "metadata": {},
   "outputs": [],
   "source": [
    "edges2=[[5,3,1],\n",
    "[1,3,3],\n",
    "[5,0,1],\n",
    "[5,2,2],\n",
    "[1,2,3],\n",
    "[2,1,4],\n",
    "[3,1,3],\n",
    "[3,5,1],\n",
    "[5,1,1],\n",
    "[2,3,1],\n",
    "[3,2,1],\n",
    "[2,5,2],\n",
    "[2,1,3],\n",
    "[5,1,4],\n",
    "[1,5,1],\n",
    "[0,5,1],\n",
    "[1,5,4],\n",
    "[1,2,4],]"
   ]
  },
  {
   "cell_type": "code",
   "execution_count": null,
   "id": "dcac64e8",
   "metadata": {},
   "outputs": [],
   "source": [
    "G1 = SparseTempFastGraph.from_temporal_edges(np.array(edges2, dtype=int), is_directed=True)\n",
    "m = get_aggregated_graph(G1)\n",
    "c = count_triangles_in_aggregated(m)\n",
    "print(c)"
   ]
  },
  {
   "cell_type": "code",
   "execution_count": null,
   "id": "67788bff",
   "metadata": {},
   "outputs": [],
   "source": [
    "fig, axs = plt.subplots(nrows = 2, ncols = 4, figsize=(16,10))\n",
    "fig.suptitle(\"number of edges\")\n",
    "axs = axs.ravel()\n",
    "for ax, dataset, t, arr in zip(axs, datasets, ts, num_edges_per_slice):\n",
    "    ax.scatter(t, arr)\n",
    "    print(dataset, arr.sum())\n",
    "    ax.set_title(dataset.name+\" \"+str(dataset.is_directed))\n",
    "        #print(dataset.name)\n",
    "        #print(arr[:,0].min())\n",
    "plt.show()"
   ]
  },
  {
   "cell_type": "code",
   "execution_count": null,
   "id": "1f291860",
   "metadata": {},
   "outputs": [],
   "source": [
    "max_depth = max([len(x.slices[0].base_partitions) for x in Gs])\n",
    "\n",
    "\n",
    "for d in range(max_depth):\n",
    "    fig, axs = plt.subplots(nrows = 2, ncols = 4, figsize=(16,10))\n",
    "    fig.suptitle(\"number of possible dual flips\")\n",
    "    axs = axs.ravel()\n",
    "    for ax, dataset, t, arr in zip(axs, datasets, ts, arrs):\n",
    "        if arr.shape[1]>d:\n",
    "            ax.plot(t, np.cumsum(arr[:,d]+1))\n",
    "            ax.set_title(dataset.name)\n",
    "            ax.set_yscale(\"log\")\n",
    "            #print(dataset.name)\n",
    "            #print(arr[:,0].min())\n",
    "    plt.show()"
   ]
  },
  {
   "cell_type": "code",
   "execution_count": null,
   "id": "c2366454",
   "metadata": {},
   "outputs": [],
   "source": [
    "np.max(arrs[0][:,0]-arrs[0][:,1])"
   ]
  },
  {
   "cell_type": "code",
   "execution_count": null,
   "id": "2b32c3c2",
   "metadata": {},
   "outputs": [],
   "source": [
    "np.all(arrs[0][:,0]-arrs[0][:,1]>=0)"
   ]
  },
  {
   "cell_type": "code",
   "execution_count": null,
   "id": "15d88aab",
   "metadata": {},
   "outputs": [],
   "source": [
    "np.max(arrs[0][:,1]-arrs[0][:,3])"
   ]
  },
  {
   "cell_type": "code",
   "execution_count": null,
   "id": "e430b1ca",
   "metadata": {},
   "outputs": [],
   "source": []
  },
  {
   "cell_type": "code",
   "execution_count": null,
   "id": "ea8d45b2",
   "metadata": {},
   "outputs": [],
   "source": []
  }
 ],
 "metadata": {
  "kernelspec": {
   "display_name": "Python 3 (ipykernel)",
   "language": "python",
   "name": "python3"
  },
  "language_info": {
   "codemirror_mode": {
    "name": "ipython",
    "version": 3
   },
   "file_extension": ".py",
   "mimetype": "text/x-python",
   "name": "python",
   "nbconvert_exporter": "python",
   "pygments_lexer": "ipython3",
   "version": "3.10.11"
  }
 },
 "nbformat": 4,
 "nbformat_minor": 5
}
