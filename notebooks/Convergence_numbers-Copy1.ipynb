{
 "cells": [
  {
   "cell_type": "code",
   "execution_count": 1,
   "id": "e72ad0bb",
   "metadata": {},
   "outputs": [],
   "source": [
    "import numpy as np\n",
    "from tnestmodel.datasets import datasets\n",
    "from tnestmodel.temp_wl import compute_d_rounds\n",
    "from tnestmodel.temp_fast_graph import SparseTempFastGraph\n",
    "from nestmodel.graph_properties import number_of_flips_possible\n",
    "from nestmodel.fast_graph import FastGraph\n",
    "import matplotlib.pyplot as plt"
   ]
  },
  {
   "cell_type": "code",
   "execution_count": 2,
   "id": "2d06805c",
   "metadata": {},
   "outputs": [],
   "source": [
    "datasets_by_name = {dataset.name : dataset for dataset in datasets}"
   ]
  },
  {
   "cell_type": "code",
   "execution_count": 3,
   "id": "58a7ced4",
   "metadata": {},
   "outputs": [
    {
     "data": {
      "text/plain": [
       "{'opsahl': <tnestmodel.datasets.CSVDataset at 0x20fbe1ea0b0>,\n",
       " 'email-eu2': <tnestmodel.datasets.CSVDataset at 0x20fbe1ea0e0>,\n",
       " 'email-eu3': <tnestmodel.datasets.CSVDataset at 0x20fbe1ea140>,\n",
       " 'dnc': <tnestmodel.datasets.CSVDataset at 0x20fbe1ea1d0>,\n",
       " 'highschool_2011': <tnestmodel.datasets.CSVDataset at 0x20fbe1ea290>,\n",
       " 'hospital_ward': <tnestmodel.datasets.CSVDataset at 0x20fbe1ea380>,\n",
       " 'ht09': <tnestmodel.datasets.CSVDataset at 0x20fbe1ea2c0>,\n",
       " 'workplace_2013': <tnestmodel.datasets.CSVDataset at 0x20fbefdebf0>}"
      ]
     },
     "execution_count": 3,
     "metadata": {},
     "output_type": "execute_result"
    }
   ],
   "source": [
    "datasets_by_name"
   ]
  },
  {
   "cell_type": "code",
   "execution_count": 4,
   "id": "b20de396",
   "metadata": {},
   "outputs": [],
   "source": [
    "curr_name = \"highschool_2011\""
   ]
  },
  {
   "cell_type": "code",
   "execution_count": 5,
   "id": "bc26ce26",
   "metadata": {},
   "outputs": [],
   "source": [
    "my_datasets = [datasets_by_name[curr_name]]"
   ]
  },
  {
   "cell_type": "code",
   "execution_count": 6,
   "id": "57e96c88",
   "metadata": {},
   "outputs": [
    {
     "name": "stdout",
     "output_type": "stream",
     "text": [
      "\n",
      "highschool_2011 False\n",
      "amax 5 39 54900 54880 54920\n",
      "54466\n",
      "108932\n",
      "163398\n",
      "217864\n",
      "272330\n"
     ]
    }
   ],
   "source": [
    "#%%snakeviz --new-tab\n",
    "convergence_numbers = []\n",
    "hs = []\n",
    "Gs = {}\n",
    "for dataset in my_datasets:\n",
    "    print()\n",
    "    print(dataset.name, dataset.is_directed)\n",
    "    E = dataset.read_edges()\n",
    "    G = SparseTempFastGraph.from_temporal_edges(E, dataset.is_directed)\n",
    "    Gs[dataset.name] = G\n",
    "    total_time_diff = np.max(E[:,2])-np.min(E[:,2])\n",
    "    for f in [0, 0.2, 0.4, 0.6, 0.8, 1.0]:\n",
    "        \n",
    "        if f>0:\n",
    "            hs.appen(h)\n",
    "            h = int(round(total_time_diff*f))\n",
    "            print(h)\n",
    "            s=G.get_temporal_wl_struct(h=h, d=-1)\n",
    "            convergence_numbers.append((dataset.name, f, len(s.colors_per_round)))\n",
    "        else:\n",
    "            hs.append(0)\n",
    "            its = []\n",
    "            for g in G.slices:\n",
    "                #g = g.switch_directions()\n",
    "                g.ensure_edges_prepared()\n",
    "                g.calc_wl()\n",
    "                its.append(len(g.base_partitions))\n",
    "            print(\"amax\", np.max(its), np.argmax(its), G.times[np.argmax(its)], G.times[np.argmax(its)-1], G.times[np.argmax(its)+1])\n",
    "            convergence_numbers.append((dataset.name, f, np.max(its)))"
   ]
  },
  {
   "cell_type": "code",
   "execution_count": 7,
   "id": "2b49e770",
   "metadata": {},
   "outputs": [
    {
     "data": {
      "text/plain": [
       "126"
      ]
     },
     "execution_count": 7,
     "metadata": {},
     "output_type": "execute_result"
    }
   ],
   "source": [
    "dataset = datasets_by_name[curr_name]\n",
    "E_temp = dataset.read_edges()\n",
    "G = SparseTempFastGraph.from_temporal_edges(E, dataset.is_directed)\n",
    "G.num_nodes"
   ]
  },
  {
   "cell_type": "code",
   "execution_count": 8,
   "id": "411873ad",
   "metadata": {},
   "outputs": [
    {
     "data": {
      "text/plain": [
       "(28539, 3)"
      ]
     },
     "execution_count": 8,
     "metadata": {},
     "output_type": "execute_result"
    }
   ],
   "source": [
    "E_temp.shape"
   ]
  },
  {
   "cell_type": "code",
   "execution_count": 9,
   "id": "69ce287f",
   "metadata": {},
   "outputs": [
    {
     "data": {
      "text/plain": [
       "57078"
      ]
     },
     "execution_count": 9,
     "metadata": {},
     "output_type": "execute_result"
    }
   ],
   "source": [
    "2*E_temp.shape[0]"
   ]
  },
  {
   "cell_type": "code",
   "execution_count": 10,
   "id": "e68a3252",
   "metadata": {},
   "outputs": [],
   "source": [
    "from tnestmodel.temp_utils import temp_undir_to_directed\n",
    "from tnestmodel.causal_completion import get_potentially_active_nodes, remove_duplicates, collect_out_edges_per_node, _create_sparse_causal_graph"
   ]
  },
  {
   "cell_type": "code",
   "execution_count": 11,
   "id": "e6b5ed5f",
   "metadata": {},
   "outputs": [],
   "source": [
    "def my_create_sparse_causal_graph(E_temp, h, is_directed, num_nodes, should_print=True):\n",
    "    if not is_directed:\n",
    "        E_temp = temp_undir_to_directed(E_temp)\n",
    "    pactive_nodes = get_potentially_active_nodes(E_temp, h, num_nodes)\n",
    "    if should_print:\n",
    "        print(len(pactive_nodes))\n",
    "\n",
    "    pactive_nodes = remove_duplicates(pactive_nodes)\n",
    "    if should_print:\n",
    "        print(pactive_nodes)\n",
    "        print(len(pactive_nodes))\n",
    "        print(len(set(map(tuple, pactive_nodes))))\n",
    "    num_all_nodes = len(pactive_nodes)\n",
    "    per_node = collect_out_edges_per_node(E_temp)\n",
    "    E_out, int_to_tuple = _create_sparse_causal_graph(per_node, pactive_nodes, h, num_nodes)\n",
    "    return E_out, num_all_nodes, int_to_tuple"
   ]
  },
  {
   "cell_type": "code",
   "execution_count": 12,
   "id": "85118fcd",
   "metadata": {},
   "outputs": [],
   "source": [
    "from tnestmodel.causal_completion import create_sparse_causal_graph"
   ]
  },
  {
   "cell_type": "code",
   "execution_count": 13,
   "id": "57e670e4",
   "metadata": {},
   "outputs": [
    {
     "data": {
      "text/plain": [
       "True"
      ]
     },
     "execution_count": 13,
     "metadata": {},
     "output_type": "execute_result"
    }
   ],
   "source": [
    "np.all(np.diff(E_temp[:,2].ravel())>=0)"
   ]
  },
  {
   "cell_type": "code",
   "execution_count": 14,
   "id": "94424510",
   "metadata": {},
   "outputs": [
    {
     "name": "stdout",
     "output_type": "stream",
     "text": [
      "154834\n",
      "[[    25  54120]\n",
      " [    65  54120]\n",
      " [    25  54140]\n",
      " ...\n",
      " [    55 326450]\n",
      " [    87 326450]\n",
      " [   124 326450]]\n",
      "63495\n",
      "63495\n"
     ]
    }
   ],
   "source": [
    "h=0\n",
    "E_out, num_all_nodes, int_to_tuple = my_create_sparse_causal_graph(E_temp, h, dataset.is_directed, G.num_nodes)"
   ]
  },
  {
   "cell_type": "code",
   "execution_count": 15,
   "id": "4fcbdb2d",
   "metadata": {},
   "outputs": [],
   "source": [
    "def apply_unmapping(E, int_to_tuple):\n",
    "    return [(int_to_tuple[u], int_to_tuple[v]) for u,v in E]"
   ]
  },
  {
   "cell_type": "code",
   "execution_count": 16,
   "id": "cfbdd574",
   "metadata": {},
   "outputs": [
    {
     "data": {
      "text/plain": [
       "[((25, 54120), (65, 54120)),\n",
       " ((65, 54120), (25, 54120)),\n",
       " ((25, 54140), (65, 54140)),\n",
       " ((65, 54140), (25, 54140)),\n",
       " ((23, 54160), (24, 54160)),\n",
       " ((24, 54160), (23, 54160)),\n",
       " ((36, 54160), (99, 54160)),\n",
       " ((99, 54160), (36, 54160)),\n",
       " ((25, 54180), (65, 54180)),\n",
       " ((25, 54180), (56, 54180)),\n",
       " ((36, 54180), (56, 54180)),\n",
       " ((56, 54180), (25, 54180)),\n",
       " ((56, 54180), (36, 54180)),\n",
       " ((56, 54180), (65, 54180)),\n",
       " ((65, 54180), (25, 54180)),\n",
       " ((65, 54180), (99, 54180)),\n",
       " ((65, 54180), (56, 54180)),\n",
       " ((99, 54180), (65, 54180)),\n",
       " ((23, 54200), (46, 54200)),\n",
       " ((36, 54200), (65, 54200))]"
      ]
     },
     "execution_count": 16,
     "metadata": {},
     "output_type": "execute_result"
    }
   ],
   "source": [
    "apply_unmapping(E_out[:20,:], int_to_tuple)"
   ]
  },
  {
   "cell_type": "code",
   "execution_count": null,
   "id": "a60fc7fb",
   "metadata": {},
   "outputs": [],
   "source": []
  },
  {
   "cell_type": "code",
   "execution_count": 17,
   "id": "4cb820a8",
   "metadata": {},
   "outputs": [],
   "source": [
    "e_set = set(map(tuple,E_out))\n",
    "#for u,v in e_set:\n",
    "#    assert (v,u) in e_set"
   ]
  },
  {
   "cell_type": "code",
   "execution_count": 18,
   "id": "81400563",
   "metadata": {},
   "outputs": [
    {
     "name": "stdout",
     "output_type": "stream",
     "text": [
      "# h=0\t -> 57_078\n"
     ]
    }
   ],
   "source": [
    "print(f'# h={h:_}\\t -> {E_out.shape[0]:_}')\n",
    "# h=1_000\t ->   6_937_501\n",
    "# h=10_000\t ->  42_802_516\n",
    "# h=100_000\t -> 125_680_221\n",
    "# h=347_500\t -> 162_677_519\n",
    "# h=500_000\t -> 162_677_519"
   ]
  },
  {
   "cell_type": "code",
   "execution_count": 19,
   "id": "e4a80909",
   "metadata": {},
   "outputs": [
    {
     "name": "stdout",
     "output_type": "stream",
     "text": [
      "nlogn\n"
     ]
    }
   ],
   "source": [
    "h=0\n",
    "E_out, num_all_nodes, int_to_tuple = create_sparse_causal_graph(E_temp, h, dataset.is_directed, G.num_nodes)\n",
    "G = FastGraph(np.array(E_out, dtype=np.uint32), is_directed=True, num_nodes=num_all_nodes)\n",
    "wl =G.calc_wl(algorithm=(\"nlogn\", dict(compact=False)))"
   ]
  },
  {
   "cell_type": "code",
   "execution_count": 20,
   "id": "270b4785",
   "metadata": {},
   "outputs": [],
   "source": [
    "#wl[2].max()"
   ]
  },
  {
   "cell_type": "code",
   "execution_count": 21,
   "id": "3d641ab6",
   "metadata": {},
   "outputs": [],
   "source": [
    "#len(np.unique(wl[2]))"
   ]
  },
  {
   "cell_type": "code",
   "execution_count": 22,
   "id": "1db7f954",
   "metadata": {},
   "outputs": [
    {
     "name": "stdout",
     "output_type": "stream",
     "text": [
      "[0, 54466, 108932, 163398, 217864, 272330]\n",
      "# wl 9\n",
      "# wl 6\n",
      "# wl 5\n",
      "# wl 5\n",
      "# wl 5\n",
      "# wl 5\n"
     ]
    }
   ],
   "source": [
    "print(hs)\n",
    "for h in hs:\n",
    "    E_out, num_all_nodes, int_to_tuple = create_sparse_causal_graph(E_temp, h, dataset.is_directed, G.num_nodes)\n",
    "    G = FastGraph(np.array(E_out, dtype=np.uint32), is_directed=True, num_nodes=num_all_nodes).switch_directions()\n",
    "    print(\"# wl\", len(G.calc_wl()))\n",
    "    "
   ]
  },
  {
   "cell_type": "code",
   "execution_count": 23,
   "id": "2a290601",
   "metadata": {},
   "outputs": [],
   "source": [
    "# no switch\n",
    "# wl 6\n",
    "# wl 3\n",
    "# wl 4\n",
    "# wl 4\n",
    "# wl 4\n",
    "# wl 4\n",
    "\n",
    "# with switch\n",
    "# wl 8\n",
    "# wl 4\n",
    "# wl 4\n",
    "# wl 4\n",
    "# wl 4\n",
    "# wl 4\n",
    "\n"
   ]
  },
  {
   "cell_type": "code",
   "execution_count": 24,
   "id": "6cb29306",
   "metadata": {},
   "outputs": [],
   "source": [
    "from nestmodel.load_datasets import relabel_edges"
   ]
  },
  {
   "cell_type": "code",
   "execution_count": null,
   "id": "ea8d45b2",
   "metadata": {},
   "outputs": [],
   "source": []
  }
 ],
 "metadata": {
  "kernelspec": {
   "display_name": "Python 3 (ipykernel)",
   "language": "python",
   "name": "python3"
  },
  "language_info": {
   "codemirror_mode": {
    "name": "ipython",
    "version": 3
   },
   "file_extension": ".py",
   "mimetype": "text/x-python",
   "name": "python",
   "nbconvert_exporter": "python",
   "pygments_lexer": "ipython3",
   "version": "3.10.11"
  }
 },
 "nbformat": 4,
 "nbformat_minor": 5
}
