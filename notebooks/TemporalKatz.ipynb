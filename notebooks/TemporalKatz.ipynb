{
 "cells": [
  {
   "cell_type": "code",
   "execution_count": 1,
   "id": "5dcccc7a",
   "metadata": {},
   "outputs": [],
   "source": [
    "from tnestmodel.temp_generation import temporal_Gnp\n",
    "from nestmodel.centralities import calc_katz_iter\n",
    "from tnestmodel.temp_fast_graph import SparseTempFastGraph\n",
    "from tnestmodel.temp_centralities import calc_temp_katz, KIND_BROADCAST, KIND_RECEIVE\n",
    "import numpy as np"
   ]
  },
  {
   "cell_type": "code",
   "execution_count": 2,
   "id": "5cf2196f",
   "metadata": {},
   "outputs": [],
   "source": [
    "G = temporal_Gnp(8,0.1, [0,1], seed=2)"
   ]
  },
  {
   "cell_type": "code",
   "execution_count": 4,
   "id": "7ce5b7d5",
   "metadata": {},
   "outputs": [],
   "source": [
    "#calc_temp_katz_iter(G, alpha=.1, kind=\"broadcast\")"
   ]
  },
  {
   "cell_type": "code",
   "execution_count": 5,
   "id": "c02dcb85",
   "metadata": {},
   "outputs": [],
   "source": [
    "edges = G.to_temporal_edges()"
   ]
  },
  {
   "cell_type": "code",
   "execution_count": 8,
   "id": "d9ec05af",
   "metadata": {},
   "outputs": [],
   "source": [
    "from tnestmodel.temp_fast_graph import SparseTempFastGraph\n",
    "from tnestmodel.temp_centralities import calc_temp_katz_iter\n",
    "G = SparseTempFastGraph.from_temporal_edges(edges, is_directed=False)\n",
    "katz = calc_temp_katz_iter(G, alpha=0.1, kind=\"broadcast\")"
   ]
  },
  {
   "cell_type": "code",
   "execution_count": 9,
   "id": "04b40f73",
   "metadata": {},
   "outputs": [
    {
     "name": "stdout",
     "output_type": "stream",
     "text": [
      "[1.         1.         1.23595506 1.24843945 1.13494496 1.\n",
      " 1.34944955 1.24843945]\n"
     ]
    }
   ],
   "source": [
    "print(katz)"
   ]
  },
  {
   "cell_type": "code",
   "execution_count": null,
   "id": "0ce65002",
   "metadata": {},
   "outputs": [],
   "source": []
  }
 ],
 "metadata": {
  "kernelspec": {
   "display_name": "Python 3 (ipykernel)",
   "language": "python",
   "name": "python3"
  },
  "language_info": {
   "codemirror_mode": {
    "name": "ipython",
    "version": 3
   },
   "file_extension": ".py",
   "mimetype": "text/x-python",
   "name": "python",
   "nbconvert_exporter": "python",
   "pygments_lexer": "ipython3",
   "version": "3.10.11"
  }
 },
 "nbformat": 4,
 "nbformat_minor": 5
}
