{
 "cells": [
  {
   "cell_type": "code",
   "execution_count": 13,
   "id": "e72ad0bb",
   "metadata": {},
   "outputs": [],
   "source": [
    "import numpy as np\n",
    "from tnestmodel.datasets import datasets\n",
    "from tnestmodel.temp_wl import compute_d_rounds\n",
    "from tnestmodel.temp_fast_graph import SparseTempFastGraph\n",
    "from nestmodel.graph_properties import number_of_flips_possible\n",
    "import matplotlib.pyplot as plt"
   ]
  },
  {
   "cell_type": "code",
   "execution_count": 14,
   "id": "2d06805c",
   "metadata": {},
   "outputs": [],
   "source": [
    "#%load_ext snakeviz"
   ]
  },
  {
   "cell_type": "code",
   "execution_count": 108,
   "id": "57e96c88",
   "metadata": {},
   "outputs": [
    {
     "name": "stdout",
     "output_type": "stream",
     "text": [
      "\n",
      "opsahl True\n",
      "amax 3 726 1082770830 1082770540 1082770915\n",
      "\n",
      "email-eu2 True\n",
      "amax 3 17084 27507192 27507068 27507702\n",
      "\n",
      "email-eu3 True\n",
      "amax 2 0 0 69317577 2635\n",
      "\n",
      "dnc True\n",
      "amax 3 2203 1461658514 1461658502 1461658526\n",
      "\n",
      "highschool_2011 False\n",
      "amax 5 39 54900 54880 54920\n",
      "\n",
      "hospital_ward False\n",
      "amax 6 4984 176860 176840 176880\n",
      "\n",
      "ht09 False\n",
      "amax 6 905 21340 21320 21360\n",
      "\n",
      "workplace_2013 False\n",
      "amax 4 225 44480 44460 44500\n"
     ]
    }
   ],
   "source": [
    "#%%snakeviz --new-tab\n",
    "convergence_numbers = []\n",
    "Gs = {}\n",
    "for dataset in datasets:\n",
    "    print()\n",
    "    print(dataset.name, dataset.is_directed)\n",
    "    E = dataset.read_edges()\n",
    "    G = SparseTempFastGraph.from_temporal_edges(E, dataset.is_directed)\n",
    "    Gs[dataset.name] = G\n",
    "    total_time_diff = np.max(E[:,2])-np.min(E[:,2])\n",
    "    for f in [0, 0.2, 0.4, 0.6, 0.8, 1.0]:\n",
    "        if f>0:\n",
    "            h = int(round(total_time_diff*f))\n",
    "            s=G.get_temporal_wl_struct(h=h, d=-1)\n",
    "            convergence_numbers.append((dataset.name, f, len(s.colors_per_round)))\n",
    "        else:\n",
    "            its = []\n",
    "            for g in G.slices:\n",
    "                #g = g.switch_directions()\n",
    "                g.ensure_edges_prepared()\n",
    "                g.calc_wl()\n",
    "                its.append(len(g.base_partitions))\n",
    "            print(\"amax\", np.max(its), np.argmax(its), G.times[np.argmax(its)], G.times[np.argmax(its)-1], G.times[np.argmax(its)+1])\n",
    "            convergence_numbers.append((dataset.name, f, np.max(its)))"
   ]
  },
  {
   "cell_type": "code",
   "execution_count": 57,
   "id": "62e38a08",
   "metadata": {},
   "outputs": [],
   "source": [
    "datasets_by_name = {dataset.name : dataset for dataset in datasets}"
   ]
  },
  {
   "cell_type": "code",
   "execution_count": 160,
   "id": "635f0a67",
   "metadata": {},
   "outputs": [],
   "source": [
    "E = datasets_by_name['ht09'].read_edges()\n",
    "E = E[E[:,2]==21340 ]"
   ]
  },
  {
   "cell_type": "code",
   "execution_count": 161,
   "id": "6cb29306",
   "metadata": {},
   "outputs": [],
   "source": [
    "from nestmodel.load_datasets import relabel_edges"
   ]
  },
  {
   "cell_type": "code",
   "execution_count": 162,
   "id": "875d3050",
   "metadata": {},
   "outputs": [],
   "source": [
    "E_hospital_176860 = np.array([[1109,1210],\n",
    "[1210,1658],\n",
    "[1193,1658],\n",
    "[1181,1295],\n",
    "[1205,1245],\n",
    "[1207,1295],\n",
    "[1098,1207],\n",
    "[1193,1207],\n",
    "[1181,1207],\n",
    "[1365,1769],\n",
    "[1142,1193],\n",
    "[1109,1193],])"
   ]
  },
  {
   "cell_type": "code",
   "execution_count": 163,
   "id": "1fcb0bff",
   "metadata": {},
   "outputs": [
    {
     "data": {
      "text/plain": [
       "array([[ 24,  31],\n",
       "       [ 83,  51],\n",
       "       [ 12,  17],\n",
       "       [ 14,  96],\n",
       "       [ 83,  62],\n",
       "       [ 17,  51],\n",
       "       [ 86,  40],\n",
       "       [ 40,  62],\n",
       "       [ 31,  61],\n",
       "       [ 24,  61],\n",
       "       [ 12,  51],\n",
       "       [ 79,  87],\n",
       "       [ 79,  38],\n",
       "       [ 87,  96],\n",
       "       [105,  57]], dtype=int64)"
      ]
     },
     "execution_count": 163,
     "metadata": {},
     "output_type": "execute_result"
    }
   ],
   "source": [
    "E[:,:2]"
   ]
  },
  {
   "cell_type": "code",
   "execution_count": 164,
   "id": "81b6705b",
   "metadata": {},
   "outputs": [
    {
     "name": "stdout",
     "output_type": "stream",
     "text": [
      "17\n"
     ]
    }
   ],
   "source": [
    "E_relabeled = relabel_edges(E[:,:2])\n",
    "print(len(np.unique(E_relabeled.ravel())))"
   ]
  },
  {
   "cell_type": "code",
   "execution_count": 165,
   "id": "54cc0ffd",
   "metadata": {},
   "outputs": [],
   "source": [
    "from nestmodel.utils import switch_in_out"
   ]
  },
  {
   "cell_type": "code",
   "execution_count": 166,
   "id": "b1f60119",
   "metadata": {},
   "outputs": [],
   "source": [
    "from nestmodel.fast_graph import FastGraph"
   ]
  },
  {
   "cell_type": "code",
   "execution_count": 167,
   "id": "20f91fec",
   "metadata": {},
   "outputs": [
    {
     "name": "stdout",
     "output_type": "stream",
     "text": [
      "[[ 0  0  0  0  0  0  0  0  0  0  0  0  0  0  0  0  0]\n",
      " [ 0  1  0  0  0  1  0  2  1  0  0  0  0  1  0  0  1]\n",
      " [ 0  1  0  2  2  1  3  4  5  2  2  3  0  1  2  3  5]\n",
      " [ 0  1  0  2  2  1  3  4  5  2  6  3  7  1  8  3  5]\n",
      " [ 0  1  0  2  2  1  3  4  5  2  6  7  8  1  9  7  5]\n",
      " [ 0  1  0  2  2  1  3  4  5  2  6  7  8  9 10  7  5]]\n"
     ]
    }
   ],
   "source": [
    "e = np.array(E_relabeled, dtype=np.uint32)\n",
    "if True:\n",
    "    e = switch_in_out(e)\n",
    "    \n",
    "G = FastGraph(e, is_directed=False)\n",
    "G.ensure_edges_prepared()\n",
    "G.calc_wl()\n",
    "print(G.base_partitions)"
   ]
  },
  {
   "cell_type": "code",
   "execution_count": null,
   "id": "bf73f0fb",
   "metadata": {},
   "outputs": [],
   "source": []
  },
  {
   "cell_type": "code",
   "execution_count": 168,
   "id": "5dc2cfd8",
   "metadata": {},
   "outputs": [],
   "source": [
    "import pandas as pd"
   ]
  },
  {
   "cell_type": "code",
   "execution_count": 169,
   "id": "44832bfb",
   "metadata": {},
   "outputs": [],
   "source": [
    "df = pd.DataFrame.from_records(convergence_numbers, columns=[\"name\", \"f\", \"iter\"])"
   ]
  },
  {
   "cell_type": "code",
   "execution_count": 48,
   "id": "25889b4f",
   "metadata": {},
   "outputs": [],
   "source": [
    "np.unique(df[\"name\"])\n",
    "names = ['opsahl', 'dnc', 'highschool_2011', 'ht09','email-eu2',  'email-eu3',\n",
    "       'hospital_ward', 'workplace_2013']\n",
    "\n",
    "color_for_name = {dataset.name : dataset.draw_color for dataset in datasets}"
   ]
  },
  {
   "cell_type": "code",
   "execution_count": 51,
   "id": "21b4ace8",
   "metadata": {
    "scrolled": false
   },
   "outputs": [
    {
     "data": {
      "image/png": "[encoded data removed]",
      "text/plain": [
       "<Figure size 1600x600 with 8 Axes>"
      ]
     },
     "metadata": {},
     "output_type": "display_data"
    }
   ],
   "source": [
    "fig, axs = plt.subplots(2, 4, figsize=(16,6))\n",
    "axs = axs.ravel()\n",
    "\n",
    "for name, ax in zip(names, axs):\n",
    "    df2 = df[df.name==name]\n",
    "    ax.scatter(df2[\"f\"], df2[\"iter\"], color=color_for_name[name])\n",
    "    ax.set_title(name)\n",
    "plt.show()"
   ]
  },
  {
   "cell_type": "code",
   "execution_count": 7,
   "id": "2fb574ac",
   "metadata": {},
   "outputs": [],
   "source": [
    "from numpy.testing import assert_array_equal"
   ]
  },
  {
   "cell_type": "code",
   "execution_count": null,
   "id": "ea8d45b2",
   "metadata": {},
   "outputs": [],
   "source": []
  }
 ],
 "metadata": {
  "kernelspec": {
   "display_name": "Python 3 (ipykernel)",
   "language": "python",
   "name": "python3"
  },
  "language_info": {
   "codemirror_mode": {
    "name": "ipython",
    "version": 3
   },
   "file_extension": ".py",
   "mimetype": "text/x-python",
   "name": "python",
   "nbconvert_exporter": "python",
   "pygments_lexer": "ipython3",
   "version": "3.10.11"
  }
 },
 "nbformat": 4,
 "nbformat_minor": 5
}
