{
 "cells": [
  {
   "cell_type": "code",
   "execution_count": 1,
   "id": "e72ad0bb",
   "metadata": {},
   "outputs": [],
   "source": [
    "import numpy as np\n",
    "from tnestmodel.datasets import datasets\n",
    "from tnestmodel.temp_wl import compute_d_rounds\n",
    "from tnestmodel.temp_fast_graph import SparseTempFastGraph\n",
    "from nestmodel.graph_properties import number_of_flips_possible\n",
    "import matplotlib.pyplot as plt"
   ]
  },
  {
   "cell_type": "code",
   "execution_count": 2,
   "id": "fb78dfcc",
   "metadata": {},
   "outputs": [],
   "source": [
    "use_range_times = False"
   ]
  },
  {
   "cell_type": "code",
   "execution_count": 3,
   "id": "1f4138c1",
   "metadata": {},
   "outputs": [],
   "source": [
    "def switch_in_out(E):\n",
    "    out = np.empty_like(E)\n",
    "    out[:,0] = E[:,1]\n",
    "    out[:,1] = E[:,0]\n",
    "    out[:,2] = E[:,2]\n",
    "    return out"
   ]
  },
  {
   "cell_type": "code",
   "execution_count": 4,
   "id": "2d06805c",
   "metadata": {},
   "outputs": [],
   "source": [
    "#%load_ext snakeviz"
   ]
  },
  {
   "cell_type": "code",
   "execution_count": 5,
   "id": "57e96c88",
   "metadata": {},
   "outputs": [
    {
     "name": "stdout",
     "output_type": "stream",
     "text": [
      "\n",
      "opsahl\n",
      "max_d 6\n",
      "\n",
      "email-eu2\n",
      "max_d 5\n",
      "\n",
      "email-eu3\n",
      "max_d 4\n",
      "\n",
      "dnc\n",
      "max_d 5\n",
      "\n",
      "highschool_2011\n",
      "max_d 5\n",
      "\n",
      "hospital_ward\n",
      "max_d 4\n",
      "\n",
      "ht09\n",
      "max_d 5\n",
      "\n",
      "workplace_2013\n",
      "max_d 5\n"
     ]
    }
   ],
   "source": [
    "#%%snakeviz --new-tab\n",
    "Gs = []\n",
    "time_deltas = []\n",
    "hs = []\n",
    "for dataset in datasets:\n",
    "    print()\n",
    "    print(dataset.name)\n",
    "    E = dataset.read_edges()\n",
    "    if dataset.is_directed:\n",
    "        E = switch_in_out(E)\n",
    "\n",
    "    nodes = np.unique(E[:, :2].ravel())\n",
    "    total_time_diff = np.max(E[:,2])-np.min(E[:,2])\n",
    "    time_deltas.append(total_time_diff)\n",
    "    h2 = int(round(total_time_diff*1.2))\n",
    "\n",
    "    G = SparseTempFastGraph.from_temporal_edges(E, dataset.is_directed)\n",
    "    if use_range_times:\n",
    "        G.times = np.arange(len(G.times))\n",
    "        h2 = int(round(len(G.times*1.2)))\n",
    "    G.assign_colors_to_slices(h=h2)\n",
    "        \n",
    "    hs.append(h2)\n",
    "    Gs.append(G)\n",
    "    #break\n"
   ]
  },
  {
   "cell_type": "code",
   "execution_count": 6,
   "id": "5dc2cfd8",
   "metadata": {},
   "outputs": [],
   "source": [
    "#raise ValueError()"
   ]
  },
  {
   "cell_type": "code",
   "execution_count": 7,
   "id": "2fb574ac",
   "metadata": {},
   "outputs": [],
   "source": [
    "from numpy.testing import assert_array_equal"
   ]
  },
  {
   "cell_type": "code",
   "execution_count": 8,
   "id": "45505c88",
   "metadata": {},
   "outputs": [],
   "source": [
    "#for G in Gs:\n",
    "#    for d_iter in range(len(G.slices[0].base_partitions)):\n",
    "#        G.s.reset_colors(d_iter, G.h, mode=\"global\")\n",
    "#        print(d_iter)\n",
    "#        for t, G_t in zip(G.times,G.slices):\n",
    "#            G.s.advance_time(t)\n",
    "#            #print(G.s.current_colors[G_t.global_nodes], G_t.base_partitions[d_iter])\n",
    "#            assert_array_equal(G.s.current_colors[G_t.global_nodes], G_t.base_partitions[d_iter])\n"
   ]
  },
  {
   "cell_type": "code",
   "execution_count": 9,
   "id": "f260dba6",
   "metadata": {},
   "outputs": [],
   "source": [
    "from numba.typed import Dict\n",
    "from numba import njit\n"
   ]
  },
  {
   "cell_type": "code",
   "execution_count": 10,
   "id": "1a888d90",
   "metadata": {},
   "outputs": [],
   "source": [
    "from nestmodel.graph_properties import _source_only_number_of_flips_possible, _normal_number_of_flips_possible\n",
    "\n",
    "@njit(cache=True)\n",
    "def update_color_counts(affected_nodes, last_colors, new_colors, number_of_nodes_per_color):\n",
    "    for node in affected_nodes:\n",
    "        old_color = last_colors[node]\n",
    "        new_color = new_colors[node]\n",
    "        if old_color==new_color:\n",
    "            continue\n",
    "        # remove old color from count\n",
    "        if number_of_nodes_per_color[old_color] == 1:\n",
    "            del number_of_nodes_per_color[old_color]\n",
    "        else:\n",
    "            number_of_nodes_per_color[old_color]-=1\n",
    "        # add new color to count\n",
    "        if new_color in number_of_nodes_per_color:\n",
    "            number_of_nodes_per_color[new_color]+=1\n",
    "        else:\n",
    "            number_of_nodes_per_color[new_color]=1\n",
    "        last_colors[node] = new_color\n",
    "    \n",
    "\n",
    "\n",
    "class NumberOfFlipsCalculator():\n",
    "    def __init__(self, G_temp, h, s = None):\n",
    "        self.G_temp = G_temp\n",
    "        self.h = h\n",
    "        if s is None:\n",
    "            self.struct = G_temp.s#get_temporal_wl_struct(h=h, base_edges=True)\n",
    "        else:\n",
    "            self.struct = s\n",
    "        if G_temp.is_directed:\n",
    "            self.last_colors = np.zeros(G_temp.num_nodes, dtype=np.int64) # assumes degree zero nodes have color zero!\n",
    "            self.number_of_nodes_per_color = Dict()\n",
    "            self.number_of_nodes_per_color[0] = G_temp.num_nodes\n",
    "        else:\n",
    "            self.last_colors = None\n",
    "            self.number_of_nodes_per_color = None\n",
    "        \n",
    "        \n",
    "        self.d = None\n",
    "            \n",
    "    def prepare(self, d):\n",
    "        self.d = d\n",
    "        self.struct.reset_colors(d=d, mode=\"global\")\n",
    "        if self.G_temp.is_directed:\n",
    "            self.last_colors[:]=0\n",
    "            self.number_of_nodes_per_color.clear()\n",
    "            self.number_of_nodes_per_color[0] = self.G_temp.num_nodes\n",
    "        \n",
    "    def calc_for_slice(self, G, t):\n",
    "        if self.G_temp.is_directed:\n",
    "            affected_nodes = self.struct.advance_time(t)\n",
    "            #print(G.global_edges, affected_nodes)\n",
    "            affected_nodes = np.fromiter(affected_nodes, count = len(affected_nodes), dtype=np.int64)\n",
    "            #print(\"current_colors\", self.struct.current_colors[G.global_nodes])\n",
    "            #print(\"set     colors\", G.base_partitions[self.d])\n",
    "            assert_array_equal(self.struct.current_colors[G.global_nodes], G.base_partitions[self.d])\n",
    "            update_color_counts(affected_nodes, self.last_colors, self.struct.current_colors, self.number_of_nodes_per_color)\n",
    "            return _source_only_number_of_flips_possible(G, self.d, self.number_of_nodes_per_color)\n",
    "        else:\n",
    "            return _normal_number_of_flips_possible(G, d)"
   ]
  },
  {
   "cell_type": "code",
   "execution_count": 47,
   "id": "0c082eba",
   "metadata": {},
   "outputs": [],
   "source": [
    "from collections import defaultdict, Counter\n",
    "\n",
    "def add_nodes_to_maps(u,v, basic, counter, is_directed):\n",
    "    if is_directed:\n",
    "        basic[u].add(v)\n",
    "        counter[u][v]+=1\n",
    "    else:\n",
    "        basic[u].add(v)\n",
    "        basic[v].add(u)\n",
    "        counter[u][v]+=1\n",
    "        counter[v][u]+=1\n",
    "\n",
    "def remove_nodes_from_maps(u,v,basic, counter, is_directed):\n",
    "    if is_directed:\n",
    "        counter[u][v]-=1\n",
    "        if counter[u][v]==0:\n",
    "            basic[u].remove(v)\n",
    "    else:\n",
    "        counter[u][v]-=1\n",
    "        if counter[u][v]==0:\n",
    "            basic[u].remove(v)\n",
    "        counter[v][u]-=1\n",
    "        if counter[v][u]==0:\n",
    "            basic[v].remove(u)    \n",
    "    \n",
    "\n",
    "class NumberOfTrianglesCalculator():\n",
    "    def __init__(self, G_temp, h=None):\n",
    "        self.G_temp = G_temp\n",
    "        self.edges = G_temp.to_temporal_edges()\n",
    "        if not h is None:\n",
    "            raise NotImplementedError()\n",
    "        self.count=0\n",
    "        \n",
    "            \n",
    "    def prepare(self):\n",
    "        self.future_nodes = defaultdict(set)\n",
    "        self.future_nodes_count = defaultdict(Counter)\n",
    "        self.past_nodes = defaultdict(set)\n",
    "        self.past_nodes_count = defaultdict(Counter)\n",
    "        for u,v,t in self.edges:\n",
    "            add_nodes_to_maps(u,v, self.future_nodes, self.future_nodes_count, self.G_temp.is_directed)\n",
    "        \n",
    "    def calc_for_slice(self, G, t):\n",
    "        count = 0\n",
    "        for u,v in G.global_edges:\n",
    "            add_nodes_to_maps(v,u, self.past_nodes, self.past_nodes_count, self.G_temp.is_directed)\n",
    "            # print(u,v)\n",
    "            # print(self.past_nodes[u], self.future_nodes[v])\n",
    "            possible_third_nodes = self.past_nodes[u].intersection(self.future_nodes[v])\n",
    "            for third_node in possible_third_nodes:\n",
    "                count+=self.past_nodes_count[u][third_node]*self.future_nodes_count[v][third_node]\n",
    "            remove_nodes_from_maps(u,v, self.future_nodes, self.future_nodes_count, self.G_temp.is_directed)\n",
    "        return count"
   ]
  },
  {
   "cell_type": "code",
   "execution_count": 176,
   "id": "f769f137",
   "metadata": {},
   "outputs": [],
   "source": [
    "from itertools import chain\n",
    "class EdgePersistenceCalculator():\n",
    "    def __init__(self, G_temp, h=None):\n",
    "        self.G_temp = G_temp\n",
    "        self.edges = G_temp.to_temporal_edges()\n",
    "        if not h is None:\n",
    "            raise NotImplementedError()\n",
    "        self.count=0\n",
    "        \n",
    "            \n",
    "    def prepare(self):\n",
    "        self.previous_edges = set()\n",
    "        self.previous_out_degrees = defaultdict(int)\n",
    "        self.previous_in_degrees = defaultdict(int)\n",
    "        \n",
    "    def calc_for_slice(self, G, t):\n",
    "        new_edges = set()\n",
    "        out_degrees = defaultdict(int)\n",
    "        in_degrees = defaultdict(int)\n",
    "        for v,u in G.global_edges:\n",
    "            if self.G_temp.is_directed:\n",
    "                new_edges.add((u,v))\n",
    "                out_degrees[u]+=1\n",
    "                in_degrees[v]+=1\n",
    "            else:\n",
    "                new_edges.add((u,v))\n",
    "                new_edges.add((v,u))\n",
    "                out_degrees[u]+=1\n",
    "                out_degrees[v]+=1\n",
    "                in_degrees[u]+=1\n",
    "                in_degrees[v]+=1\n",
    "                \n",
    "            \n",
    "        shared_edges = self.previous_edges.intersection(new_edges)\n",
    "        value=0\n",
    "        if len(shared_edges)>0:\n",
    "            shared_degree = defaultdict(int)\n",
    "            for u,v in shared_edges:\n",
    "                if self.G_temp.is_directed:\n",
    "                    shared_degree[u]+=1\n",
    "                else:\n",
    "                    shared_degree[u]+=1\n",
    "            shared_nodes = set(u for u,v in shared_edges)\n",
    "\n",
    "            value = 0\n",
    "            for node in shared_nodes:\n",
    "                value += shared_degree[node] / (np.sqrt(self.previous_out_degrees[node])*np.sqrt(out_degrees[node]))\n",
    "        self.previous_out_degrees = out_degrees\n",
    "        self.previous_in_degrees = in_degrees\n",
    "        self.previous_edges = new_edges\n",
    "            \n",
    "        \n",
    "        \n",
    "        return value"
   ]
  },
  {
   "cell_type": "code",
   "execution_count": 157,
   "id": "25bfdfef",
   "metadata": {},
   "outputs": [
    {
     "data": {
      "text/plain": [
       "(array([0, 1, 2, 3, 4]), array([0, 3, 0, 0, 0]))"
      ]
     },
     "execution_count": 157,
     "metadata": {},
     "output_type": "execute_result"
    }
   ],
   "source": [
    "G = SparseTempFastGraph.from_temporal_edges(np.array([(0,1,0), (1,2,1), (1,3,1), (2,0,2), (3,0,3), (2,0,4)],dtype=int), is_directed=True)\n",
    "calculator = NumberOfTrianglesCalculator(G)\n",
    "calculator.prepare()\n",
    "# print(calculator.future_nodes_count, calculator.future_nodes)\n",
    "G.compute_for_each_slice(calculator.calc_for_slice, min_size=1, call_with_time=True, dtype=int)"
   ]
  },
  {
   "cell_type": "code",
   "execution_count": 158,
   "id": "0ff5fd79",
   "metadata": {
    "scrolled": true
   },
   "outputs": [],
   "source": [
    "ts = []\n",
    "arrs = []\n",
    "for h, G in zip(hs, Gs):\n",
    "    calculator = NumberOfTrianglesCalculator(G)\n",
    "    calculator.prepare()\n",
    "    t, arr = G.compute_for_each_slice(calculator.calc_for_slice, min_size=1, call_with_time=True, dtype=int)\n",
    "        \n",
    "    t = np.array(t, dtype=np.float64)\n",
    "    t = t-t.min()\n",
    "    t /= t.max()\n",
    "    ts.append(t)\n",
    "    arrs.append(arr)"
   ]
  },
  {
   "cell_type": "code",
   "execution_count": 177,
   "id": "82e2525f",
   "metadata": {},
   "outputs": [
    {
     "name": "stdout",
     "output_type": "stream",
     "text": [
      "1958.238135729482\n",
      "2807.110314831705\n",
      "725.0545856087615\n",
      "716.9380535381002\n",
      "31075.337368918532\n",
      "29310.286495790784\n",
      "18540.51996215101\n",
      "11556.261380665277\n"
     ]
    }
   ],
   "source": [
    "ts = []\n",
    "pers = []\n",
    "for h, G in zip(hs, Gs):\n",
    "    calculator = EdgePersistenceCalculator(G)\n",
    "    calculator.prepare()\n",
    "    _, arr = G.compute_for_each_slice(calculator.calc_for_slice, min_size=1, call_with_time=True)\n",
    "    print(arr.sum())\n",
    "    pers.append(arr.sum())"
   ]
  },
  {
   "cell_type": "code",
   "execution_count": 57,
   "id": "fcfeb9f0",
   "metadata": {},
   "outputs": [],
   "source": [
    "def number_of_edges(G):\n",
    "    return len(G.edges)\n",
    "\n",
    "list_num_edges = []\n",
    "for G in Gs:\n",
    "    t, arr = G.compute_for_each_slice(number_of_edges, min_size=1, call_with_time=False)\n",
    "    list_num_edges.append(arr.sum())"
   ]
  },
  {
   "cell_type": "code",
   "execution_count": 65,
   "id": "7960e514",
   "metadata": {},
   "outputs": [
    {
     "name": "stdout",
     "output_type": "stream",
     "text": [
      "opsahl \t\tnum_triangles_per_edge 12.240459547142045\n",
      "email-eu2 \t\tnum_triangles_per_edge 16695.927124538142\n",
      "email-eu3 \t\tnum_triangles_per_edge 302.69496307360384\n",
      "dnc \t\tnum_triangles_per_edge 1082.6907365965897\n",
      "highschool_2011 \t\tnum_triangles_per_edge 1745.2076807176145\n",
      "hospital_ward \t\tnum_triangles_per_edge 29717.08743523316\n",
      "ht09 \t\tnum_triangles_per_edge 2097.946392544913\n",
      "workplace_2013 \t\tnum_triangles_per_edge 1277.4283097588277\n"
     ]
    }
   ],
   "source": [
    "rows = []\n",
    "for arr, num_edges, dataset in zip(arrs, list_num_edges, datasets):\n",
    "    \n",
    "    print(dataset.name, \"\\t\\tnum_triangles_per_edge\", np.sum(arr)/num_edges)\n",
    "    rows.append((dataset.name, arr.sum(), num_edges, np.sum(arr)/num_edges))"
   ]
  },
  {
   "cell_type": "code",
   "execution_count": null,
   "id": "252c6542",
   "metadata": {},
   "outputs": [],
   "source": []
  },
  {
   "cell_type": "code",
   "execution_count": 67,
   "id": "d692166b",
   "metadata": {},
   "outputs": [],
   "source": [
    "import pandas as pd"
   ]
  },
  {
   "cell_type": "code",
   "execution_count": 69,
   "id": "611de3f5",
   "metadata": {},
   "outputs": [
    {
     "data": {
      "text/html": [
       "<div>\n",
       "<style scoped>\n",
       "    .dataframe tbody tr th:only-of-type {\n",
       "        vertical-align: middle;\n",
       "    }\n",
       "\n",
       "    .dataframe tbody tr th {\n",
       "        vertical-align: top;\n",
       "    }\n",
       "\n",
       "    .dataframe thead th {\n",
       "        text-align: right;\n",
       "    }\n",
       "</style>\n",
       "<table border=\"1\" class=\"dataframe\">\n",
       "  <thead>\n",
       "    <tr style=\"text-align: right;\">\n",
       "      <th></th>\n",
       "      <th>name</th>\n",
       "      <th>forward_triangles</th>\n",
       "      <th>edges</th>\n",
       "      <th>triangles per edge</th>\n",
       "    </tr>\n",
       "  </thead>\n",
       "  <tbody>\n",
       "    <tr>\n",
       "      <th>0</th>\n",
       "      <td>opsahl</td>\n",
       "      <td>731955</td>\n",
       "      <td>59798.0</td>\n",
       "      <td>12.240460</td>\n",
       "    </tr>\n",
       "    <tr>\n",
       "      <th>1</th>\n",
       "      <td>email-eu2</td>\n",
       "      <td>768179607</td>\n",
       "      <td>46010.0</td>\n",
       "      <td>16695.927125</td>\n",
       "    </tr>\n",
       "    <tr>\n",
       "      <th>2</th>\n",
       "      <td>email-eu3</td>\n",
       "      <td>3647777</td>\n",
       "      <td>12051.0</td>\n",
       "      <td>302.694963</td>\n",
       "    </tr>\n",
       "    <tr>\n",
       "      <th>3</th>\n",
       "      <td>dnc</td>\n",
       "      <td>34350529</td>\n",
       "      <td>31727.0</td>\n",
       "      <td>1082.690737</td>\n",
       "    </tr>\n",
       "    <tr>\n",
       "      <th>4</th>\n",
       "      <td>highschool_2011</td>\n",
       "      <td>49806482</td>\n",
       "      <td>28539.0</td>\n",
       "      <td>1745.207681</td>\n",
       "    </tr>\n",
       "    <tr>\n",
       "      <th>5</th>\n",
       "      <td>hospital_ward</td>\n",
       "      <td>963546843</td>\n",
       "      <td>32424.0</td>\n",
       "      <td>29717.087435</td>\n",
       "    </tr>\n",
       "    <tr>\n",
       "      <th>6</th>\n",
       "      <td>ht09</td>\n",
       "      <td>43675048</td>\n",
       "      <td>20818.0</td>\n",
       "      <td>2097.946393</td>\n",
       "    </tr>\n",
       "    <tr>\n",
       "      <th>7</th>\n",
       "      <td>workplace_2013</td>\n",
       "      <td>12553288</td>\n",
       "      <td>9827.0</td>\n",
       "      <td>1277.428310</td>\n",
       "    </tr>\n",
       "  </tbody>\n",
       "</table>\n",
       "</div>"
      ],
      "text/plain": [
       "              name  forward_triangles    edges  triangles per edge\n",
       "0           opsahl             731955  59798.0           12.240460\n",
       "1        email-eu2          768179607  46010.0        16695.927125\n",
       "2        email-eu3            3647777  12051.0          302.694963\n",
       "3              dnc           34350529  31727.0         1082.690737\n",
       "4  highschool_2011           49806482  28539.0         1745.207681\n",
       "5    hospital_ward          963546843  32424.0        29717.087435\n",
       "6             ht09           43675048  20818.0         2097.946393\n",
       "7   workplace_2013           12553288   9827.0         1277.428310"
      ]
     },
     "execution_count": 69,
     "metadata": {},
     "output_type": "execute_result"
    }
   ],
   "source": [
    "pd.DataFrame.from_records(rows, columns=[\"name\", \"forward_triangles\", \"edges\", \"triangles per edge\"])"
   ]
  },
  {
   "cell_type": "code",
   "execution_count": 70,
   "id": "bc000f5c",
   "metadata": {},
   "outputs": [],
   "source": [
    "import networkx as nx"
   ]
  },
  {
   "cell_type": "code",
   "execution_count": 117,
   "id": "544ab439",
   "metadata": {},
   "outputs": [],
   "source": [
    "def get_aggregated_graph(G):\n",
    "    m = defaultdict(int)\n",
    "    if G.is_directed:\n",
    "        for u,v,t in G.to_temporal_edges():\n",
    "            m[(u,v)]+=1\n",
    "    else:\n",
    "        for u,v,t in G.to_temporal_edges():\n",
    "            m[(u,v)]+=1\n",
    "            m[(v,u)]+=1\n",
    "    return m\n"
   ]
  },
  {
   "cell_type": "code",
   "execution_count": 118,
   "id": "560f5cb9",
   "metadata": {},
   "outputs": [
    {
     "data": {
      "text/plain": [
       "92"
      ]
     },
     "execution_count": 118,
     "metadata": {},
     "output_type": "execute_result"
    }
   ],
   "source": [
    "G.num_nodes"
   ]
  },
  {
   "cell_type": "code",
   "execution_count": 119,
   "id": "0c3c9a91",
   "metadata": {},
   "outputs": [],
   "source": [
    "def count_triangles_in_aggregated(m):\n",
    "    c = 0\n",
    "    for (u,v), mul in m.items():\n",
    "        for w in range(G.num_nodes):\n",
    "            if (w,u) in m and (v,w) in m:\n",
    "                c+=m[(u,v)]*m[(w,u)]*m[(v,w)]\n",
    "    return c"
   ]
  },
  {
   "cell_type": "code",
   "execution_count": 166,
   "id": "ec4f9888",
   "metadata": {},
   "outputs": [],
   "source": [
    "nodes_per = [G.num_nodes for G in Gs]\n",
    "times_per = [len(G.slices) for G in Gs]\n",
    "directed_per = [G.is_directed for G in Gs]"
   ]
  },
  {
   "cell_type": "code",
   "execution_count": 127,
   "id": "5c4cb122",
   "metadata": {},
   "outputs": [
    {
     "name": "stdout",
     "output_type": "stream",
     "text": [
      "CSVDataset(opsahl, True) 3925875\n",
      "CSVDataset(email-eu2, True) 4574681847\n",
      "CSVDataset(email-eu3, True) 21498570\n",
      "CSVDataset(dnc, True) 203675919\n",
      "CSVDataset(highschool_2011, False) 566010444\n",
      "CSVDataset(hospital_ward, False) 10362849816\n",
      "CSVDataset(ht09, False) 559040718\n",
      "CSVDataset(workplace_2013, False) 140416356\n"
     ]
    }
   ],
   "source": [
    "counts = []\n",
    "for dataset, G in zip(datasets, Gs):\n",
    "    if dataset.name==\"hospital_ward\":\n",
    "        G_out = G\n",
    "    m = get_aggregated_graph(G)\n",
    "    c = count_triangles_in_aggregated(m)\n",
    "    print(dataset, c)\n",
    "    counts.append(c)\n"
   ]
  },
  {
   "cell_type": "code",
   "execution_count": 144,
   "id": "2ec5e619",
   "metadata": {},
   "outputs": [
    {
     "data": {
      "text/plain": [
       "93173453.0"
      ]
     },
     "execution_count": 144,
     "metadata": {},
     "output_type": "execute_result"
    }
   ],
   "source": [
    "559040718/6"
   ]
  },
  {
   "cell_type": "code",
   "execution_count": 178,
   "id": "cf8d1c92",
   "metadata": {},
   "outputs": [],
   "source": [
    "df = pd.DataFrame.from_records(rows, columns=[\"name\", \"forward_triangles\", \"edges\", \"triangles per edge\"])\n",
    "df[\"dir\"] = directed_per\n",
    "df[\"pers\"] = pers\n",
    "df[\"all_triangles\"] = np.array(counts)/6\n",
    "df[\"nodes\"] = nodes_per\n",
    "df[\"times\"] = times_per"
   ]
  },
  {
   "cell_type": "code",
   "execution_count": 179,
   "id": "fb06713a",
   "metadata": {},
   "outputs": [
    {
     "data": {
      "text/html": [
       "<div>\n",
       "<style scoped>\n",
       "    .dataframe tbody tr th:only-of-type {\n",
       "        vertical-align: middle;\n",
       "    }\n",
       "\n",
       "    .dataframe tbody tr th {\n",
       "        vertical-align: top;\n",
       "    }\n",
       "\n",
       "    .dataframe thead th {\n",
       "        text-align: right;\n",
       "    }\n",
       "</style>\n",
       "<table border=\"1\" class=\"dataframe\">\n",
       "  <thead>\n",
       "    <tr style=\"text-align: right;\">\n",
       "      <th></th>\n",
       "      <th>name</th>\n",
       "      <th>forward_triangles</th>\n",
       "      <th>edges</th>\n",
       "      <th>triangles per edge</th>\n",
       "      <th>dir</th>\n",
       "      <th>pers</th>\n",
       "      <th>all_triangles</th>\n",
       "      <th>nodes</th>\n",
       "      <th>times</th>\n",
       "      <th>all_edges</th>\n",
       "      <th>all_VT</th>\n",
       "      <th>pers_E</th>\n",
       "    </tr>\n",
       "  </thead>\n",
       "  <tbody>\n",
       "    <tr>\n",
       "      <th>0</th>\n",
       "      <td>opsahl</td>\n",
       "      <td>731955</td>\n",
       "      <td>59798.0</td>\n",
       "      <td>12.240460</td>\n",
       "      <td>True</td>\n",
       "      <td>1958.238136</td>\n",
       "      <td>6.543125e+05</td>\n",
       "      <td>1899</td>\n",
       "      <td>58911</td>\n",
       "      <td>10.942047</td>\n",
       "      <td>0.005849</td>\n",
       "      <td>0.032748</td>\n",
       "    </tr>\n",
       "    <tr>\n",
       "      <th>1</th>\n",
       "      <td>email-eu2</td>\n",
       "      <td>768179607</td>\n",
       "      <td>46010.0</td>\n",
       "      <td>16695.927125</td>\n",
       "      <td>True</td>\n",
       "      <td>2807.110315</td>\n",
       "      <td>7.624470e+08</td>\n",
       "      <td>162</td>\n",
       "      <td>32340</td>\n",
       "      <td>16571.331765</td>\n",
       "      <td>145.530699</td>\n",
       "      <td>0.061011</td>\n",
       "    </tr>\n",
       "    <tr>\n",
       "      <th>2</th>\n",
       "      <td>email-eu3</td>\n",
       "      <td>3647777</td>\n",
       "      <td>12051.0</td>\n",
       "      <td>302.694963</td>\n",
       "      <td>True</td>\n",
       "      <td>725.054586</td>\n",
       "      <td>3.583095e+06</td>\n",
       "      <td>89</td>\n",
       "      <td>8911</td>\n",
       "      <td>297.327608</td>\n",
       "      <td>4.517955</td>\n",
       "      <td>0.060166</td>\n",
       "    </tr>\n",
       "    <tr>\n",
       "      <th>3</th>\n",
       "      <td>dnc</td>\n",
       "      <td>34350529</td>\n",
       "      <td>31727.0</td>\n",
       "      <td>1082.690737</td>\n",
       "      <td>True</td>\n",
       "      <td>716.938054</td>\n",
       "      <td>3.394599e+07</td>\n",
       "      <td>1891</td>\n",
       "      <td>18682</td>\n",
       "      <td>1069.940004</td>\n",
       "      <td>0.960890</td>\n",
       "      <td>0.022597</td>\n",
       "    </tr>\n",
       "    <tr>\n",
       "      <th>4</th>\n",
       "      <td>highschool_2011</td>\n",
       "      <td>49806482</td>\n",
       "      <td>28539.0</td>\n",
       "      <td>1745.207681</td>\n",
       "      <td>False</td>\n",
       "      <td>31075.337369</td>\n",
       "      <td>9.433507e+07</td>\n",
       "      <td>126</td>\n",
       "      <td>5609</td>\n",
       "      <td>3305.479309</td>\n",
       "      <td>133.480311</td>\n",
       "      <td>1.088873</td>\n",
       "    </tr>\n",
       "    <tr>\n",
       "      <th>5</th>\n",
       "      <td>hospital_ward</td>\n",
       "      <td>963546843</td>\n",
       "      <td>32424.0</td>\n",
       "      <td>29717.087435</td>\n",
       "      <td>False</td>\n",
       "      <td>29310.286496</td>\n",
       "      <td>1.727142e+09</td>\n",
       "      <td>75</td>\n",
       "      <td>9453</td>\n",
       "      <td>53267.383296</td>\n",
       "      <td>2436.110774</td>\n",
       "      <td>0.903969</td>\n",
       "    </tr>\n",
       "    <tr>\n",
       "      <th>6</th>\n",
       "      <td>ht09</td>\n",
       "      <td>43675048</td>\n",
       "      <td>20818.0</td>\n",
       "      <td>2097.946393</td>\n",
       "      <td>False</td>\n",
       "      <td>18540.519962</td>\n",
       "      <td>9.317345e+07</td>\n",
       "      <td>113</td>\n",
       "      <td>5246</td>\n",
       "      <td>4475.619800</td>\n",
       "      <td>157.175721</td>\n",
       "      <td>0.890600</td>\n",
       "    </tr>\n",
       "    <tr>\n",
       "      <th>7</th>\n",
       "      <td>workplace_2013</td>\n",
       "      <td>12553288</td>\n",
       "      <td>9827.0</td>\n",
       "      <td>1277.428310</td>\n",
       "      <td>False</td>\n",
       "      <td>11556.261381</td>\n",
       "      <td>2.340273e+07</td>\n",
       "      <td>92</td>\n",
       "      <td>7104</td>\n",
       "      <td>2381.472067</td>\n",
       "      <td>35.807637</td>\n",
       "      <td>1.175970</td>\n",
       "    </tr>\n",
       "  </tbody>\n",
       "</table>\n",
       "</div>"
      ],
      "text/plain": [
       "              name  forward_triangles    edges  triangles per edge    dir  \\\n",
       "0           opsahl             731955  59798.0           12.240460   True   \n",
       "1        email-eu2          768179607  46010.0        16695.927125   True   \n",
       "2        email-eu3            3647777  12051.0          302.694963   True   \n",
       "3              dnc           34350529  31727.0         1082.690737   True   \n",
       "4  highschool_2011           49806482  28539.0         1745.207681  False   \n",
       "5    hospital_ward          963546843  32424.0        29717.087435  False   \n",
       "6             ht09           43675048  20818.0         2097.946393  False   \n",
       "7   workplace_2013           12553288   9827.0         1277.428310  False   \n",
       "\n",
       "           pers  all_triangles  nodes  times     all_edges       all_VT  \\\n",
       "0   1958.238136   6.543125e+05   1899  58911     10.942047     0.005849   \n",
       "1   2807.110315   7.624470e+08    162  32340  16571.331765   145.530699   \n",
       "2    725.054586   3.583095e+06     89   8911    297.327608     4.517955   \n",
       "3    716.938054   3.394599e+07   1891  18682   1069.940004     0.960890   \n",
       "4  31075.337369   9.433507e+07    126   5609   3305.479309   133.480311   \n",
       "5  29310.286496   1.727142e+09     75   9453  53267.383296  2436.110774   \n",
       "6  18540.519962   9.317345e+07    113   5246   4475.619800   157.175721   \n",
       "7  11556.261381   2.340273e+07     92   7104   2381.472067    35.807637   \n",
       "\n",
       "     pers_E  \n",
       "0  0.032748  \n",
       "1  0.061011  \n",
       "2  0.060166  \n",
       "3  0.022597  \n",
       "4  1.088873  \n",
       "5  0.903969  \n",
       "6  0.890600  \n",
       "7  1.175970  "
      ]
     },
     "execution_count": 179,
     "metadata": {},
     "output_type": "execute_result"
    }
   ],
   "source": [
    "df[\"all_edges\"] = df[\"all_triangles\"]/(df[\"edges\"])\n",
    "df[\"all_VT\"] = df[\"all_triangles\"]/(df[\"nodes\"]*df[\"times\"])\n",
    "df[\"pers_E\"] = df[\"pers\"]/(df[\"edges\"])\n",
    "df"
   ]
  },
  {
   "cell_type": "code",
   "execution_count": 134,
   "id": "8c42b25e",
   "metadata": {},
   "outputs": [
    {
     "name": "stdout",
     "output_type": "stream",
     "text": [
      "{1098: 0, 1100: 1, 1105: 2, 1108: 3, 1109: 4, 1114: 5, 1115: 6, 1116: 7, 1130: 8, 1142: 9, 1144: 10, 1148: 11, 1149: 12, 1152: 13, 1157: 14, 1159: 15, 1164: 16, 1168: 17, 1179: 18, 1181: 19, 1190: 20, 1191: 21, 1193: 22, 1196: 23, 1202: 24, 1205: 25, 1207: 26, 1209: 27, 1210: 28, 1221: 29, 1232: 30, 1238: 31, 1245: 32, 1246: 33, 1260: 34, 1261: 35, 1295: 36, 1305: 37, 1307: 38, 1320: 39, 1323: 40, 1327: 41, 1332: 42, 1352: 43, 1362: 44, 1363: 45, 1365: 46, 1373: 47, 1374: 48, 1377: 49, 1378: 50, 1383: 51, 1385: 52, 1391: 53, 1393: 54, 1395: 55, 1399: 56, 1401: 57, 1416: 58, 1460: 59, 1469: 60, 1485: 61, 1525: 62, 1535: 63, 1547: 64, 1613: 65, 1625: 66, 1629: 67, 1658: 68, 1660: 69, 1671: 70, 1701: 71, 1702: 72, 1769: 73, 1784: 74}\n"
     ]
    }
   ],
   "source": [
    "print(datasets[5].mapping)"
   ]
  },
  {
   "cell_type": "code",
   "execution_count": null,
   "id": "1dff80f0",
   "metadata": {},
   "outputs": [],
   "source": [
    "#current_colors [313 247]\n",
    "#set     colors [310 247]"
   ]
  },
  {
   "cell_type": "code",
   "execution_count": 101,
   "id": "a3894730",
   "metadata": {},
   "outputs": [],
   "source": [
    "edges1 = [[2,1,2],\n",
    "[3,4,2],\n",
    "[3,1,1],\n",
    "[4,3,2],\n",
    "[0,2,3],\n",
    "[1,2,2],\n",
    "[1,0,3],\n",
    "[2,0,3],\n",
    "[1,3,1],\n",
    "[0,1,3],]"
   ]
  },
  {
   "cell_type": "code",
   "execution_count": 110,
   "id": "7a63a188",
   "metadata": {},
   "outputs": [],
   "source": [
    "edges2=[[5,3,1],\n",
    "[1,3,3],\n",
    "[5,0,1],\n",
    "[5,2,2],\n",
    "[1,2,3],\n",
    "[2,1,4],\n",
    "[3,1,3],\n",
    "[3,5,1],\n",
    "[5,1,1],\n",
    "[2,3,1],\n",
    "[3,2,1],\n",
    "[2,5,2],\n",
    "[2,1,3],\n",
    "[5,1,4],\n",
    "[1,5,1],\n",
    "[0,5,1],\n",
    "[1,5,4],\n",
    "[1,2,4],]"
   ]
  },
  {
   "cell_type": "code",
   "execution_count": 113,
   "id": "dcac64e8",
   "metadata": {},
   "outputs": [
    {
     "name": "stdout",
     "output_type": "stream",
     "text": [
      "54\n"
     ]
    }
   ],
   "source": [
    "G1 = SparseTempFastGraph.from_temporal_edges(np.array(edges2, dtype=int), is_directed=True)\n",
    "m = get_aggregated_graph(G1)\n",
    "c = count_triangles_in_aggregated(m)\n",
    "print(c)"
   ]
  },
  {
   "cell_type": "code",
   "execution_count": null,
   "id": "67788bff",
   "metadata": {},
   "outputs": [],
   "source": [
    "fig, axs = plt.subplots(nrows = 2, ncols = 4, figsize=(16,10))\n",
    "fig.suptitle(\"number of edges\")\n",
    "axs = axs.ravel()\n",
    "for ax, dataset, t, arr in zip(axs, datasets, ts, num_edges_per_slice):\n",
    "    ax.scatter(t, arr)\n",
    "    print(dataset, arr.sum())\n",
    "    ax.set_title(dataset.name+\" \"+str(dataset.is_directed))\n",
    "        #print(dataset.name)\n",
    "        #print(arr[:,0].min())\n",
    "plt.show()"
   ]
  },
  {
   "cell_type": "code",
   "execution_count": null,
   "id": "1f291860",
   "metadata": {
    "scrolled": false
   },
   "outputs": [],
   "source": [
    "max_depth = max([len(x.slices[0].base_partitions) for x in Gs])\n",
    "\n",
    "\n",
    "for d in range(max_depth):\n",
    "    fig, axs = plt.subplots(nrows = 2, ncols = 4, figsize=(16,10))\n",
    "    fig.suptitle(\"number of possible dual flips\")\n",
    "    axs = axs.ravel()\n",
    "    for ax, dataset, t, arr in zip(axs, datasets, ts, arrs):\n",
    "        if arr.shape[1]>d:\n",
    "            ax.plot(t, np.cumsum(arr[:,d]+1))\n",
    "            ax.set_title(dataset.name)\n",
    "            ax.set_yscale(\"log\")\n",
    "            #print(dataset.name)\n",
    "            #print(arr[:,0].min())\n",
    "    plt.show()"
   ]
  },
  {
   "cell_type": "code",
   "execution_count": null,
   "id": "c2366454",
   "metadata": {},
   "outputs": [],
   "source": [
    "np.max(arrs[0][:,0]-arrs[0][:,1])"
   ]
  },
  {
   "cell_type": "code",
   "execution_count": null,
   "id": "2b32c3c2",
   "metadata": {},
   "outputs": [],
   "source": [
    "np.all(arrs[0][:,0]-arrs[0][:,1]>=0)"
   ]
  },
  {
   "cell_type": "code",
   "execution_count": null,
   "id": "15d88aab",
   "metadata": {},
   "outputs": [],
   "source": [
    "np.max(arrs[0][:,1]-arrs[0][:,3])"
   ]
  },
  {
   "cell_type": "code",
   "execution_count": null,
   "id": "e430b1ca",
   "metadata": {},
   "outputs": [],
   "source": []
  },
  {
   "cell_type": "code",
   "execution_count": null,
   "id": "ea8d45b2",
   "metadata": {},
   "outputs": [],
   "source": []
  }
 ],
 "metadata": {
  "kernelspec": {
   "display_name": "Python 3 (ipykernel)",
   "language": "python",
   "name": "python3"
  },
  "language_info": {
   "codemirror_mode": {
    "name": "ipython",
    "version": 3
   },
   "file_extension": ".py",
   "mimetype": "text/x-python",
   "name": "python",
   "nbconvert_exporter": "python",
   "pygments_lexer": "ipython3",
   "version": "3.10.11"
  }
 },
 "nbformat": 4,
 "nbformat_minor": 5
}
